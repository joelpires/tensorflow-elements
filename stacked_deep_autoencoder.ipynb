{
 "cells": [
  {
   "cell_type": "code",
   "execution_count": 1,
   "metadata": {},
   "outputs": [
    {
     "name": "stderr",
     "output_type": "stream",
     "text": [
      "C:\\Users\\Joel Pires\\AppData\\Roaming\\Python\\Python36\\site-packages\\tensorflow\\python\\framework\\dtypes.py:519: FutureWarning: Passing (type, 1) or '1type' as a synonym of type is deprecated; in a future version of numpy, it will be understood as (type, (1,)) / '(1,)type'.\n",
      "  _np_qint8 = np.dtype([(\"qint8\", np.int8, 1)])\n",
      "C:\\Users\\Joel Pires\\AppData\\Roaming\\Python\\Python36\\site-packages\\tensorflow\\python\\framework\\dtypes.py:520: FutureWarning: Passing (type, 1) or '1type' as a synonym of type is deprecated; in a future version of numpy, it will be understood as (type, (1,)) / '(1,)type'.\n",
      "  _np_quint8 = np.dtype([(\"quint8\", np.uint8, 1)])\n",
      "C:\\Users\\Joel Pires\\AppData\\Roaming\\Python\\Python36\\site-packages\\tensorflow\\python\\framework\\dtypes.py:521: FutureWarning: Passing (type, 1) or '1type' as a synonym of type is deprecated; in a future version of numpy, it will be understood as (type, (1,)) / '(1,)type'.\n",
      "  _np_qint16 = np.dtype([(\"qint16\", np.int16, 1)])\n",
      "C:\\Users\\Joel Pires\\AppData\\Roaming\\Python\\Python36\\site-packages\\tensorflow\\python\\framework\\dtypes.py:522: FutureWarning: Passing (type, 1) or '1type' as a synonym of type is deprecated; in a future version of numpy, it will be understood as (type, (1,)) / '(1,)type'.\n",
      "  _np_quint16 = np.dtype([(\"quint16\", np.uint16, 1)])\n",
      "C:\\Users\\Joel Pires\\AppData\\Roaming\\Python\\Python36\\site-packages\\tensorflow\\python\\framework\\dtypes.py:523: FutureWarning: Passing (type, 1) or '1type' as a synonym of type is deprecated; in a future version of numpy, it will be understood as (type, (1,)) / '(1,)type'.\n",
      "  _np_qint32 = np.dtype([(\"qint32\", np.int32, 1)])\n",
      "C:\\Users\\Joel Pires\\AppData\\Roaming\\Python\\Python36\\site-packages\\tensorflow\\python\\framework\\dtypes.py:528: FutureWarning: Passing (type, 1) or '1type' as a synonym of type is deprecated; in a future version of numpy, it will be understood as (type, (1,)) / '(1,)type'.\n",
      "  np_resource = np.dtype([(\"resource\", np.ubyte, 1)])\n"
     ]
    }
   ],
   "source": [
    "from tensorflow.examples.tutorials.mnist import input_data\n",
    "import matplotlib.pyplot as plt\n",
    "import tensorflow as tf\n",
    "import numpy as np\n",
    "%matplotlib inline"
   ]
  },
  {
   "cell_type": "code",
   "execution_count": 2,
   "metadata": {},
   "outputs": [
    {
     "name": "stdout",
     "output_type": "stream",
     "text": [
      "WARNING:tensorflow:From <ipython-input-2-5fece67200fb>:1: read_data_sets (from tensorflow.contrib.learn.python.learn.datasets.mnist) is deprecated and will be removed in a future version.\n",
      "Instructions for updating:\n",
      "Please use alternatives such as official/mnist/dataset.py from tensorflow/models.\n",
      "WARNING:tensorflow:From C:\\Users\\Joel Pires\\AppData\\Roaming\\Python\\Python36\\site-packages\\tensorflow\\contrib\\learn\\python\\learn\\datasets\\mnist.py:260: maybe_download (from tensorflow.contrib.learn.python.learn.datasets.base) is deprecated and will be removed in a future version.\n",
      "Instructions for updating:\n",
      "Please write your own downloading logic.\n",
      "WARNING:tensorflow:From C:\\Users\\Joel Pires\\AppData\\Roaming\\Python\\Python36\\site-packages\\tensorflow\\contrib\\learn\\python\\learn\\datasets\\mnist.py:262: extract_images (from tensorflow.contrib.learn.python.learn.datasets.mnist) is deprecated and will be removed in a future version.\n",
      "Instructions for updating:\n",
      "Please use tf.data to implement this functionality.\n",
      "Extracting mnist/train-images-idx3-ubyte.gz\n",
      "WARNING:tensorflow:From C:\\Users\\Joel Pires\\AppData\\Roaming\\Python\\Python36\\site-packages\\tensorflow\\contrib\\learn\\python\\learn\\datasets\\mnist.py:267: extract_labels (from tensorflow.contrib.learn.python.learn.datasets.mnist) is deprecated and will be removed in a future version.\n",
      "Instructions for updating:\n",
      "Please use tf.data to implement this functionality.\n",
      "Extracting mnist/train-labels-idx1-ubyte.gz\n",
      "WARNING:tensorflow:From C:\\Users\\Joel Pires\\AppData\\Roaming\\Python\\Python36\\site-packages\\tensorflow\\contrib\\learn\\python\\learn\\datasets\\mnist.py:110: dense_to_one_hot (from tensorflow.contrib.learn.python.learn.datasets.mnist) is deprecated and will be removed in a future version.\n",
      "Instructions for updating:\n",
      "Please use tf.one_hot on tensors.\n",
      "Extracting mnist/t10k-images-idx3-ubyte.gz\n",
      "Extracting mnist/t10k-labels-idx1-ubyte.gz\n",
      "WARNING:tensorflow:From C:\\Users\\Joel Pires\\AppData\\Roaming\\Python\\Python36\\site-packages\\tensorflow\\contrib\\learn\\python\\learn\\datasets\\mnist.py:290: DataSet.__init__ (from tensorflow.contrib.learn.python.learn.datasets.mnist) is deprecated and will be removed in a future version.\n",
      "Instructions for updating:\n",
      "Please use alternatives such as official/mnist/dataset.py from tensorflow/models.\n"
     ]
    }
   ],
   "source": [
    "mnist = input_data.read_data_sets('mnist/', one_hot = True)\n",
    "X = mnist.train.images"
   ]
  },
  {
   "cell_type": "code",
   "execution_count": 3,
   "metadata": {},
   "outputs": [
    {
     "data": {
      "text/plain": [
       "<matplotlib.image.AxesImage at 0x2053c095b70>"
      ]
     },
     "execution_count": 3,
     "metadata": {},
     "output_type": "execute_result"
    },
    {
     "data": {
      "image/png": "[encoded data removed]",
      "text/plain": [
       "<Figure size 432x288 with 1 Axes>"
      ]
     },
     "metadata": {
      "needs_background": "light"
     },
     "output_type": "display_data"
    }
   ],
   "source": [
    "plt.imshow(X[1].reshape(28,28))"
   ]
  },
  {
   "cell_type": "code",
   "execution_count": 4,
   "metadata": {},
   "outputs": [],
   "source": [
    "input_neurons = 784\n",
    "hidden_neurons1 = 128\n",
    "\n",
    "hidden_neurons2 = 64\n",
    "\n",
    "hidden_neurons3 = hidden_neurons1\n",
    "output_neurons = input_neurons"
   ]
  },
  {
   "cell_type": "code",
   "execution_count": 5,
   "metadata": {},
   "outputs": [],
   "source": [
    "tf.reset_default_graph()"
   ]
  },
  {
   "cell_type": "code",
   "execution_count": 6,
   "metadata": {},
   "outputs": [],
   "source": [
    "xph = tf.placeholder(tf.float32, [None, input_neurons])"
   ]
  },
  {
   "cell_type": "code",
   "execution_count": 7,
   "metadata": {},
   "outputs": [],
   "source": [
    "initializer = tf.variance_scaling_initializer()"
   ]
  },
  {
   "cell_type": "code",
   "execution_count": 8,
   "metadata": {},
   "outputs": [],
   "source": [
    "# 784 -> 128 -> 64 -> 128 -> 784\n",
    "W = {'hidden_encoder_1': tf.Variable(initializer([input_neurons, hidden_neurons1])),\n",
    "     'hidden_encoder_2': tf.Variable(initializer([hidden_neurons1, hidden_neurons2])),\n",
    "     'hidden_decoder3': tf.Variable(initializer([hidden_neurons2, hidden_neurons3])),\n",
    "     'output_decoder': tf.Variable(initializer([hidden_neurons3, output_neurons]))\n",
    "}"
   ]
  },
  {
   "cell_type": "code",
   "execution_count": 9,
   "metadata": {},
   "outputs": [],
   "source": [
    "b = {'hidden_encoder_1': tf.Variable(initializer([hidden_neurons1])),\n",
    "     'hidden_encoder_2': tf.Variable(initializer([hidden_neurons2])),\n",
    "     'hidden_decoder3': tf.Variable(initializer([hidden_neurons3])),\n",
    "     'output_decoder': tf.Variable(initializer([output_neurons]))\n",
    "}"
   ]
  },
  {
   "cell_type": "code",
   "execution_count": 10,
   "metadata": {},
   "outputs": [],
   "source": [
    "hidden_layer_1 = tf.nn.relu(tf.add(tf.matmul(xph, W['hidden_encoder_1']), b['hidden_encoder_1']))\n",
    "hidden_layer2 = tf.nn.relu(tf.add(tf.matmul(hidden_layer_1, W['hidden_encoder_2']), b['hidden_encoder_2']))\n",
    "hidden_layer_3 = tf.nn.relu(tf.add(tf.matmul(hidden_layer2, W['hidden_decoder3']), b['hidden_decoder3']))\n",
    "output_layer = tf.nn.relu(tf.add(tf.matmul(hidden_layer_3, W['output_decoder']), b['output_decoder']))\n",
    "error = tf.losses.mean_squared_error(xph, output_layer)\n",
    "optimizer = tf.train.AdamOptimizer(learning_rate = 0.001)\n",
    "training = optimizer.minimize(error)\n",
    "batch_size = 128"
   ]
  },
  {
   "cell_type": "code",
   "execution_count": 11,
   "metadata": {
    "scrolled": true
   },
   "outputs": [
    {
     "name": "stdout",
     "output_type": "stream",
     "text": [
      "epoch: 1 error: 0.011700701\n",
      "epoch: 2 error: 0.0100902\n",
      "epoch: 3 error: 0.010775447\n",
      "epoch: 4 error: 0.009866618\n",
      "epoch: 5 error: 0.009159956\n",
      "epoch: 6 error: 0.009451989\n",
      "epoch: 7 error: 0.008842516\n",
      "epoch: 8 error: 0.009167383\n",
      "epoch: 9 error: 0.008532918\n",
      "epoch: 10 error: 0.009314334\n",
      "epoch: 11 error: 0.008817662\n",
      "epoch: 12 error: 0.008832705\n",
      "epoch: 13 error: 0.008966629\n",
      "epoch: 14 error: 0.009182715\n",
      "epoch: 15 error: 0.009211539\n",
      "epoch: 16 error: 0.008928375\n",
      "epoch: 17 error: 0.009458587\n",
      "epoch: 18 error: 0.008653336\n",
      "epoch: 19 error: 0.009219376\n",
      "epoch: 20 error: 0.008110975\n",
      "epoch: 21 error: 0.008809285\n",
      "epoch: 22 error: 0.009389526\n",
      "epoch: 23 error: 0.009611928\n",
      "epoch: 24 error: 0.008921492\n",
      "epoch: 25 error: 0.0092668\n",
      "epoch: 26 error: 0.00889134\n",
      "epoch: 27 error: 0.009538043\n",
      "epoch: 28 error: 0.008319351\n",
      "epoch: 29 error: 0.009002769\n",
      "epoch: 30 error: 0.009680765\n",
      "epoch: 31 error: 0.008895016\n",
      "epoch: 32 error: 0.009393286\n",
      "epoch: 33 error: 0.009220991\n",
      "epoch: 34 error: 0.008736304\n",
      "epoch: 35 error: 0.009163389\n",
      "epoch: 36 error: 0.008964765\n",
      "epoch: 37 error: 0.008790119\n",
      "epoch: 38 error: 0.008324478\n",
      "epoch: 39 error: 0.009244918\n",
      "epoch: 40 error: 0.008951208\n",
      "epoch: 41 error: 0.009083636\n",
      "epoch: 42 error: 0.008237818\n",
      "epoch: 43 error: 0.009474846\n",
      "epoch: 44 error: 0.009184747\n",
      "epoch: 45 error: 0.009424256\n",
      "epoch: 46 error: 0.009284781\n",
      "epoch: 47 error: 0.009275982\n",
      "epoch: 48 error: 0.00883795\n",
      "epoch: 49 error: 0.009114822\n",
      "epoch: 50 error: 0.0092623895\n"
     ]
    }
   ],
   "source": [
    "with tf.Session() as sess:\n",
    "    sess.run(tf.global_variables_initializer())\n",
    "    for epoch in range(50):\n",
    "        batches_number = mnist.train.num_examples \n",
    "        for i in range(batches_number):\n",
    "            X_batch, _ = mnist.train.next_batch(batch_size)\n",
    "            cost, _ = sess.run([error, training], feed_dict = {xph: X_batch})\n",
    "        print('epoch: ' + str(epoch + 1) + ' error: ' + str(cost))\n",
    "    \n",
    "    coded_images = sess.run(hidden_layer2, feed_dict = {xph: X})\n",
    "    decoded_images = sess.run(output_layer, feed_dict = {xph: X})"
   ]
  },
  {
   "cell_type": "code",
   "execution_count": 12,
   "metadata": {},
   "outputs": [
    {
     "data": {
      "text/plain": [
       "(55000, 64)"
      ]
     },
     "execution_count": 12,
     "metadata": {},
     "output_type": "execute_result"
    }
   ],
   "source": [
    "coded_images.shape"
   ]
  },
  {
   "cell_type": "code",
   "execution_count": 13,
   "metadata": {},
   "outputs": [
    {
     "data": {
      "text/plain": [
       "array([0.10794216, 0.        , 0.        , 0.        , 0.8515641 ,\n",
       "       0.        , 0.        , 0.        , 0.52475476, 1.591986  ,\n",
       "       1.5553732 , 0.        , 0.        , 1.4056258 , 2.116878  ,\n",
       "       1.3374863 , 1.5815258 , 0.15614386, 1.2486477 , 0.47847646,\n",
       "       0.        , 1.3719506 , 1.2862275 , 0.98920035, 2.692036  ,\n",
       "       1.542951  , 0.        , 0.96279675, 1.6853893 , 1.2298238 ,\n",
       "       1.7314678 , 0.        , 0.        , 0.35485798, 1.6722918 ,\n",
       "       1.3456073 , 0.684146  , 0.        , 1.0234165 , 1.6442038 ,\n",
       "       0.8823304 , 0.22227241, 0.        , 0.        , 1.5641332 ,\n",
       "       2.047973  , 0.        , 1.0859975 , 1.5718899 , 0.        ,\n",
       "       0.8408363 , 0.43677208, 0.        , 0.51507103, 0.        ,\n",
       "       1.2129709 , 0.2658757 , 1.0362755 , 0.30870914, 0.        ,\n",
       "       0.23748448, 0.93886095, 2.507782  , 1.5203695 ], dtype=float32)"
      ]
     },
     "execution_count": 13,
     "metadata": {},
     "output_type": "execute_result"
    }
   ],
   "source": [
    "coded_images[0]"
   ]
  },
  {
   "cell_type": "code",
   "execution_count": 14,
   "metadata": {},
   "outputs": [
    {
     "data": {
      "text/plain": [
       "(55000, 784)"
      ]
     },
     "execution_count": 14,
     "metadata": {},
     "output_type": "execute_result"
    }
   ],
   "source": [
    "decoded_images.shape"
   ]
  },
  {
   "cell_type": "code",
   "execution_count": 15,
   "metadata": {},
   "outputs": [
    {
     "data": {
      "text/plain": [
       "array([0.        , 0.        , 0.        , 0.        , 0.        ,\n",
       "       0.        , 0.        , 0.        , 0.        , 0.        ,\n",
       "       0.        , 0.        , 0.        , 0.        , 0.        ,\n",
       "       0.        , 0.        , 0.        , 0.        , 0.        ,\n",
       "       0.        , 0.        , 0.        , 0.        , 0.        ,\n",
       "       0.        , 0.        , 0.        , 0.        , 0.        ,\n",
       "       0.        , 0.        , 0.        , 0.        , 0.        ,\n",
       "       0.        , 0.        , 0.        , 0.        , 0.        ,\n",
       "       0.        , 0.        , 0.        , 0.        , 0.        ,\n",
       "       0.        , 0.        , 0.        , 0.        , 0.        ,\n",
       "       0.        , 0.        , 0.        , 0.        , 0.        ,\n",
       "       0.        , 0.        , 0.        , 0.        , 0.        ,\n",
       "       0.        , 0.        , 0.        , 0.        , 0.        ,\n",
       "       0.        , 0.        , 0.        , 0.        , 0.        ,\n",
       "       0.        , 0.        , 0.        , 0.        , 0.        ,\n",
       "       0.        , 0.        , 0.        , 0.        , 0.        ,\n",
       "       0.        , 0.        , 0.        , 0.        , 0.        ,\n",
       "       0.        , 0.        , 0.        , 0.        , 0.        ,\n",
       "       0.        , 0.        , 0.        , 0.        , 0.        ,\n",
       "       0.        , 0.        , 0.        , 0.        , 0.        ,\n",
       "       0.        , 0.        , 0.        , 0.        , 0.        ,\n",
       "       0.        , 0.        , 0.        , 0.        , 0.        ,\n",
       "       0.        , 0.        , 0.        , 0.        , 0.        ,\n",
       "       0.        , 0.        , 0.        , 0.        , 0.        ,\n",
       "       0.        , 0.        , 0.        , 0.        , 0.        ,\n",
       "       0.        , 0.        , 0.        , 0.        , 0.        ,\n",
       "       0.        , 0.        , 0.        , 0.        , 0.        ,\n",
       "       0.        , 0.        , 0.        , 0.        , 0.        ,\n",
       "       0.        , 0.        , 0.        , 0.        , 0.        ,\n",
       "       0.        , 0.        , 0.        , 0.        , 0.        ,\n",
       "       0.        , 0.        , 0.        , 0.        , 0.        ,\n",
       "       0.        , 0.        , 0.        , 0.        , 0.        ,\n",
       "       0.        , 0.        , 0.        , 0.        , 0.        ,\n",
       "       0.        , 0.        , 0.        , 0.        , 0.        ,\n",
       "       0.        , 0.        , 0.        , 0.        , 0.        ,\n",
       "       0.        , 0.        , 0.        , 0.        , 0.        ,\n",
       "       0.        , 0.        , 0.        , 0.        , 0.        ,\n",
       "       0.        , 0.        , 0.        , 0.        , 0.        ,\n",
       "       0.        , 0.        , 0.        , 0.        , 0.        ,\n",
       "       0.        , 0.        , 0.        , 0.        , 0.        ,\n",
       "       0.        , 0.        , 0.        , 0.02941157, 0.        ,\n",
       "       0.07495153, 0.13423733, 0.27414438, 0.33254993, 0.33329943,\n",
       "       0.2694222 , 0.22980231, 0.07515514, 0.        , 0.        ,\n",
       "       0.        , 0.        , 0.        , 0.        , 0.        ,\n",
       "       0.        , 0.        , 0.        , 0.        , 0.        ,\n",
       "       0.        , 0.        , 0.        , 0.        , 0.82918453,\n",
       "       0.85807043, 0.78314745, 0.81378907, 0.77642775, 0.87790626,\n",
       "       1.066684  , 1.0819008 , 1.074734  , 1.0450507 , 1.0009921 ,\n",
       "       0.82486   , 0.57725656, 0.19814098, 0.        , 0.        ,\n",
       "       0.        , 0.        , 0.        , 0.        , 0.        ,\n",
       "       0.        , 0.        , 0.        , 0.        , 0.        ,\n",
       "       0.        , 0.        , 0.9380437 , 1.085938  , 1.0533471 ,\n",
       "       0.95525676, 0.9457278 , 0.        , 0.99162924, 1.0037841 ,\n",
       "       0.9283008 , 0.9260663 , 0.9488959 , 0.9756401 , 0.96381146,\n",
       "       0.77639765, 0.32605657, 0.        , 0.        , 0.        ,\n",
       "       0.        , 0.        , 0.        , 0.        , 0.        ,\n",
       "       0.        , 0.        , 0.        , 0.        , 0.40277123,\n",
       "       0.49772805, 0.72723854, 0.7318667 , 0.68280303, 0.5491079 ,\n",
       "       0.50718784, 0.32729673, 0.19857678, 0.09519131, 0.27944142,\n",
       "       0.5460439 , 0.7515063 , 0.995445  , 1.0342624 , 0.77003497,\n",
       "       0.05237529, 0.        , 0.        , 0.        , 0.        ,\n",
       "       0.        , 0.        , 0.        , 0.        , 0.        ,\n",
       "       0.        , 0.        , 0.        , 0.        , 0.        ,\n",
       "       0.        , 0.08754754, 0.        , 0.        , 0.        ,\n",
       "       0.        , 0.        , 0.        , 0.        , 0.23311895,\n",
       "       0.6999029 , 1.0068829 , 1.0151591 , 0.4693351 , 0.        ,\n",
       "       0.        , 0.        , 0.        , 0.        , 0.        ,\n",
       "       0.        , 0.        , 0.        , 0.        , 0.        ,\n",
       "       0.        , 0.        , 0.        , 0.        , 0.        ,\n",
       "       0.        , 0.        , 0.        , 0.        , 0.        ,\n",
       "       0.        , 0.        , 0.        , 0.4700742 , 0.9963845 ,\n",
       "       1.1168883 , 0.7337344 , 0.        , 0.        , 0.        ,\n",
       "       0.        , 0.        , 0.        , 0.        , 0.        ,\n",
       "       0.        , 0.        , 0.        , 0.        , 0.        ,\n",
       "       0.        , 0.        , 0.        , 0.        , 0.        ,\n",
       "       0.        , 0.        , 0.        , 0.        , 0.        ,\n",
       "       0.        , 0.47400957, 0.8861503 , 1.0668081 , 0.84496427,\n",
       "       0.        , 0.        , 0.        , 0.        , 0.        ,\n",
       "       0.        , 0.        , 0.        , 0.        , 0.        ,\n",
       "       0.        , 0.        , 0.        , 0.        , 0.        ,\n",
       "       0.        , 0.        , 0.        , 0.        , 0.        ,\n",
       "       0.        , 0.        , 0.09331155, 0.4568162 , 0.7446711 ,\n",
       "       0.90164614, 1.044888  , 0.9267878 , 0.38751566, 0.        ,\n",
       "       0.        , 0.        , 0.        , 0.        , 0.        ,\n",
       "       0.        , 0.        , 0.        , 0.        , 0.        ,\n",
       "       0.        , 0.        , 0.        , 0.        , 0.        ,\n",
       "       0.        , 0.28225052, 0.56475973, 0.64434165, 0.7679298 ,\n",
       "       0.        , 0.93960214, 0.9731599 , 1.0339648 , 1.0973384 ,\n",
       "       1.0277385 , 0.49671096, 0.        , 0.        , 0.        ,\n",
       "       0.        , 0.        , 0.        , 0.        , 0.        ,\n",
       "       0.        , 0.        , 0.        , 0.        , 0.        ,\n",
       "       0.        , 0.        , 0.18163401, 0.57597435, 0.8861771 ,\n",
       "       1.0904299 , 1.1446804 , 1.1800593 , 1.0550877 , 0.84750336,\n",
       "       0.85911053, 1.0135484 , 1.1899338 , 1.0244179 , 0.5469325 ,\n",
       "       0.        , 0.        , 0.        , 0.        , 0.        ,\n",
       "       0.        , 0.        , 0.        , 0.        , 0.        ,\n",
       "       0.        , 0.        , 0.02046066, 0.47076705, 0.83441675,\n",
       "       0.9890824 , 1.0071182 , 0.95760065, 0.97404647, 0.8979001 ,\n",
       "       0.7004925 , 0.39592344, 0.30859557, 0.47848642, 0.8271692 ,\n",
       "       1.0531614 , 0.99309754, 0.5355166 , 0.        , 0.        ,\n",
       "       0.        , 0.        , 0.        , 0.        , 0.        ,\n",
       "       0.        , 0.        , 0.        , 0.        , 0.        ,\n",
       "       0.52553904, 0.93428165, 1.1041224 , 1.0038435 , 0.7063743 ,\n",
       "       0.4561166 , 0.23751634, 0.06485289, 0.        , 0.        ,\n",
       "       0.        , 0.20174068, 0.73444235, 1.0066955 , 0.9189365 ,\n",
       "       0.34471175, 0.        , 0.        , 0.        , 0.        ,\n",
       "       0.        , 0.        , 0.        , 0.        , 0.        ,\n",
       "       0.        , 0.        , 0.        , 0.42590064, 0.6504937 ,\n",
       "       0.6037359 , 0.        , 0.        , 0.        , 0.        ,\n",
       "       0.        , 0.        , 0.        , 0.        , 0.1455909 ,\n",
       "       0.78228784, 1.052918  , 0.7965842 , 0.        , 0.        ,\n",
       "       0.        , 0.        , 0.        , 0.        , 0.        ,\n",
       "       0.        , 0.        , 0.        , 0.        , 0.        ,\n",
       "       0.        , 0.        , 0.        , 0.        , 0.        ,\n",
       "       0.        , 0.        , 0.        , 0.        , 0.        ,\n",
       "       0.        , 0.        , 0.25282454, 0.89613414, 1.0434273 ,\n",
       "       0.6209081 , 0.        , 0.        , 0.        , 0.        ,\n",
       "       0.        , 0.        , 0.        , 0.        , 0.        ,\n",
       "       0.        , 0.        , 0.        , 0.        , 0.        ,\n",
       "       0.        , 0.        , 0.        , 0.        , 0.        ,\n",
       "       0.        , 0.        , 0.        , 0.        , 0.        ,\n",
       "       0.559497  , 0.9487482 , 0.86255425, 0.2653275 , 0.        ,\n",
       "       0.        , 0.        , 0.        , 0.        , 0.        ,\n",
       "       0.        , 0.        , 0.        , 0.        , 0.        ,\n",
       "       0.        , 0.        , 0.        , 0.        , 0.        ,\n",
       "       0.        , 0.        , 0.        , 0.        , 0.        ,\n",
       "       0.        , 0.        , 0.4723879 , 0.90370214, 1.0962268 ,\n",
       "       0.7248378 , 0.        , 0.        , 0.        , 0.        ,\n",
       "       0.        , 0.        , 0.        , 0.        , 0.        ,\n",
       "       0.        , 0.        , 0.        , 0.        , 0.        ,\n",
       "       0.        , 0.        , 0.        , 0.        , 0.        ,\n",
       "       0.        , 0.        , 0.        , 0.        , 0.31870902,\n",
       "       0.8375791 , 1.1614356 , 1.0354471 , 0.33159328, 0.        ,\n",
       "       0.        , 0.        , 0.        , 0.        , 0.        ,\n",
       "       0.        , 0.        , 0.        , 0.        , 0.        ,\n",
       "       0.        , 0.        , 0.        , 0.        , 0.        ,\n",
       "       0.        , 0.        , 0.        , 0.        , 0.        ,\n",
       "       0.        , 0.        , 0.        , 1.0080585 , 0.        ,\n",
       "       0.        , 0.        , 0.        , 0.        , 0.        ,\n",
       "       0.        , 0.        , 0.        , 0.        , 0.        ,\n",
       "       0.        , 0.        , 0.        , 0.        , 0.        ,\n",
       "       0.        , 0.        , 0.        , 0.        , 0.        ,\n",
       "       0.        , 0.        , 0.        , 0.        , 0.        ,\n",
       "       0.10610747, 0.58016646, 0.        , 0.        , 0.        ,\n",
       "       0.        , 0.        , 0.        , 0.        , 0.        ,\n",
       "       0.        , 0.        , 0.        , 0.        , 0.        ,\n",
       "       0.        , 0.        , 0.        , 0.        , 0.        ,\n",
       "       0.        , 0.        , 0.        , 0.        , 0.        ,\n",
       "       0.        , 0.        , 0.        , 0.        , 0.        ,\n",
       "       0.        , 0.        , 0.        , 0.        , 0.        ,\n",
       "       0.        , 0.        , 0.        , 0.        , 0.        ,\n",
       "       0.        , 0.        , 0.        , 0.        , 0.        ,\n",
       "       0.        , 0.        , 0.        , 0.        , 0.        ,\n",
       "       0.        , 0.        , 0.        , 0.        , 0.        ,\n",
       "       0.        , 0.        , 0.        , 0.        , 0.        ,\n",
       "       0.        , 0.        , 0.        , 0.        , 0.        ,\n",
       "       0.        , 0.        , 0.        , 0.        ], dtype=float32)"
      ]
     },
     "execution_count": 15,
     "metadata": {},
     "output_type": "execute_result"
    }
   ],
   "source": [
    "decoded_images[0]"
   ]
  },
  {
   "cell_type": "code",
   "execution_count": 16,
   "metadata": {},
   "outputs": [
    {
     "data": {
      "text/plain": [
       "array([46186, 44292, 50785, 10545,  4661])"
      ]
     },
     "execution_count": 16,
     "metadata": {},
     "output_type": "execute_result"
    }
   ],
   "source": [
    "image_number = 5\n",
    "test_images = np.random.randint(X.shape[0], size = image_number)\n",
    "test_images"
   ]
  },
  {
   "cell_type": "code",
   "execution_count": 17,
   "metadata": {},
   "outputs": [
    {
     "data": {
      "image/png": "[encoded data removed]",
      "text/plain": [
       "<Figure size 1296x1296 with 15 Axes>"
      ]
     },
     "metadata": {},
     "output_type": "display_data"
    }
   ],
   "source": [
    "plt.figure(figsize = (18, 18))\n",
    "for i, index in enumerate(test_images):\n",
    "    #print(i)\n",
    "    #print(index)\n",
    "    axis = plt.subplot(10, 5, i + 1)\n",
    "    plt.imshow(X[index].reshape(28, 28))\n",
    "    plt.xticks(())\n",
    "    plt.yticks(())\n",
    "    \n",
    "    axis = plt.subplot(10, 5, i + 1 + image_number)\n",
    "    plt.imshow(coded_images[index].reshape(8, 8))\n",
    "    plt.xticks(())\n",
    "    plt.yticks(())\n",
    "    \n",
    "    axis = plt.subplot(10, 5, i + 1 + image_number * 2)\n",
    "    plt.imshow(decoded_images[index].reshape(28, 28))\n",
    "    plt.xticks(())\n",
    "    plt.yticks(())\n",
    "    \n",
    "    "
   ]
  }
 ],
 "metadata": {
  "kernelspec": {
   "display_name": "Python 3",
   "language": "python",
   "name": "python3"
  },
  "language_info": {
   "codemirror_mode": {
    "name": "ipython",
    "version": 3
   },
   "file_extension": ".py",
   "mimetype": "text/x-python",
   "name": "python",
   "nbconvert_exporter": "python",
   "pygments_lexer": "ipython3",
   "version": "3.6.7"
  }
 },
 "nbformat": 4,
 "nbformat_minor": 2
}
