{
 "cells": [
  {
   "cell_type": "code",
   "execution_count": 80,
   "metadata": {},
   "outputs": [
    {
     "data": {
      "text/html": [
       "<div>\n",
       "<style scoped>\n",
       "    .dataframe tbody tr th:only-of-type {\n",
       "        vertical-align: middle;\n",
       "    }\n",
       "\n",
       "    .dataframe tbody tr th {\n",
       "        vertical-align: top;\n",
       "    }\n",
       "\n",
       "    .dataframe thead th {\n",
       "        text-align: right;\n",
       "    }\n",
       "</style>\n",
       "<table border=\"1\" class=\"dataframe\">\n",
       "  <thead>\n",
       "    <tr style=\"text-align: right;\">\n",
       "      <th></th>\n",
       "      <th>age</th>\n",
       "      <th>workclass</th>\n",
       "      <th>final-weight</th>\n",
       "      <th>education</th>\n",
       "      <th>education-num</th>\n",
       "      <th>marital-status</th>\n",
       "      <th>occupation</th>\n",
       "      <th>relationship</th>\n",
       "      <th>race</th>\n",
       "      <th>sex</th>\n",
       "      <th>capital-gain</th>\n",
       "      <th>capital-loos</th>\n",
       "      <th>hour-per-week</th>\n",
       "      <th>native-country</th>\n",
       "      <th>income</th>\n",
       "    </tr>\n",
       "  </thead>\n",
       "  <tbody>\n",
       "    <tr>\n",
       "      <th>0</th>\n",
       "      <td>39</td>\n",
       "      <td>State-gov</td>\n",
       "      <td>77516</td>\n",
       "      <td>Bachelors</td>\n",
       "      <td>13</td>\n",
       "      <td>Never-married</td>\n",
       "      <td>Adm-clerical</td>\n",
       "      <td>Not-in-family</td>\n",
       "      <td>White</td>\n",
       "      <td>Male</td>\n",
       "      <td>2174</td>\n",
       "      <td>0</td>\n",
       "      <td>40</td>\n",
       "      <td>United-States</td>\n",
       "      <td>&lt;=50K</td>\n",
       "    </tr>\n",
       "    <tr>\n",
       "      <th>1</th>\n",
       "      <td>50</td>\n",
       "      <td>Self-emp-not-inc</td>\n",
       "      <td>83311</td>\n",
       "      <td>Bachelors</td>\n",
       "      <td>13</td>\n",
       "      <td>Married-civ-spouse</td>\n",
       "      <td>Exec-managerial</td>\n",
       "      <td>Husband</td>\n",
       "      <td>White</td>\n",
       "      <td>Male</td>\n",
       "      <td>0</td>\n",
       "      <td>0</td>\n",
       "      <td>13</td>\n",
       "      <td>United-States</td>\n",
       "      <td>&lt;=50K</td>\n",
       "    </tr>\n",
       "    <tr>\n",
       "      <th>2</th>\n",
       "      <td>38</td>\n",
       "      <td>Private</td>\n",
       "      <td>215646</td>\n",
       "      <td>HS-grad</td>\n",
       "      <td>9</td>\n",
       "      <td>Divorced</td>\n",
       "      <td>Handlers-cleaners</td>\n",
       "      <td>Not-in-family</td>\n",
       "      <td>White</td>\n",
       "      <td>Male</td>\n",
       "      <td>0</td>\n",
       "      <td>0</td>\n",
       "      <td>40</td>\n",
       "      <td>United-States</td>\n",
       "      <td>&lt;=50K</td>\n",
       "    </tr>\n",
       "    <tr>\n",
       "      <th>3</th>\n",
       "      <td>53</td>\n",
       "      <td>Private</td>\n",
       "      <td>234721</td>\n",
       "      <td>11th</td>\n",
       "      <td>7</td>\n",
       "      <td>Married-civ-spouse</td>\n",
       "      <td>Handlers-cleaners</td>\n",
       "      <td>Husband</td>\n",
       "      <td>Black</td>\n",
       "      <td>Male</td>\n",
       "      <td>0</td>\n",
       "      <td>0</td>\n",
       "      <td>40</td>\n",
       "      <td>United-States</td>\n",
       "      <td>&lt;=50K</td>\n",
       "    </tr>\n",
       "    <tr>\n",
       "      <th>4</th>\n",
       "      <td>28</td>\n",
       "      <td>Private</td>\n",
       "      <td>338409</td>\n",
       "      <td>Bachelors</td>\n",
       "      <td>13</td>\n",
       "      <td>Married-civ-spouse</td>\n",
       "      <td>Prof-specialty</td>\n",
       "      <td>Wife</td>\n",
       "      <td>Black</td>\n",
       "      <td>Female</td>\n",
       "      <td>0</td>\n",
       "      <td>0</td>\n",
       "      <td>40</td>\n",
       "      <td>Cuba</td>\n",
       "      <td>&lt;=50K</td>\n",
       "    </tr>\n",
       "  </tbody>\n",
       "</table>\n",
       "</div>"
      ],
      "text/plain": [
       "   age          workclass  final-weight   education  education-num  \\\n",
       "0   39          State-gov         77516   Bachelors             13   \n",
       "1   50   Self-emp-not-inc         83311   Bachelors             13   \n",
       "2   38            Private        215646     HS-grad              9   \n",
       "3   53            Private        234721        11th              7   \n",
       "4   28            Private        338409   Bachelors             13   \n",
       "\n",
       "        marital-status          occupation    relationship    race      sex  \\\n",
       "0        Never-married        Adm-clerical   Not-in-family   White     Male   \n",
       "1   Married-civ-spouse     Exec-managerial         Husband   White     Male   \n",
       "2             Divorced   Handlers-cleaners   Not-in-family   White     Male   \n",
       "3   Married-civ-spouse   Handlers-cleaners         Husband   Black     Male   \n",
       "4   Married-civ-spouse      Prof-specialty            Wife   Black   Female   \n",
       "\n",
       "   capital-gain  capital-loos  hour-per-week  native-country  income  \n",
       "0          2174             0             40   United-States   <=50K  \n",
       "1             0             0             13   United-States   <=50K  \n",
       "2             0             0             40   United-States   <=50K  \n",
       "3             0             0             40   United-States   <=50K  \n",
       "4             0             0             40            Cuba   <=50K  "
      ]
     },
     "execution_count": 80,
     "metadata": {},
     "output_type": "execute_result"
    }
   ],
   "source": [
    "import pandas as pd\n",
    "base = pd.read_csv('census.csv')\n",
    "base.head()"
   ]
  },
  {
   "cell_type": "code",
   "execution_count": 81,
   "metadata": {},
   "outputs": [
    {
     "data": {
      "text/plain": [
       "array([' <=50K', ' >50K'], dtype=object)"
      ]
     },
     "execution_count": 81,
     "metadata": {},
     "output_type": "execute_result"
    }
   ],
   "source": [
    "base.income.unique()"
   ]
  },
  {
   "cell_type": "code",
   "execution_count": 82,
   "metadata": {},
   "outputs": [],
   "source": [
    "def converte_classe(rotulo):\n",
    "    if rotulo == ' >50K':\n",
    "        return 1\n",
    "    else:\n",
    "        return 0"
   ]
  },
  {
   "cell_type": "code",
   "execution_count": 83,
   "metadata": {},
   "outputs": [],
   "source": [
    "base.income = base.income.apply(converte_classe)"
   ]
  },
  {
   "cell_type": "code",
   "execution_count": 84,
   "metadata": {},
   "outputs": [
    {
     "data": {
      "text/html": [
       "<div>\n",
       "<style scoped>\n",
       "    .dataframe tbody tr th:only-of-type {\n",
       "        vertical-align: middle;\n",
       "    }\n",
       "\n",
       "    .dataframe tbody tr th {\n",
       "        vertical-align: top;\n",
       "    }\n",
       "\n",
       "    .dataframe thead th {\n",
       "        text-align: right;\n",
       "    }\n",
       "</style>\n",
       "<table border=\"1\" class=\"dataframe\">\n",
       "  <thead>\n",
       "    <tr style=\"text-align: right;\">\n",
       "      <th></th>\n",
       "      <th>age</th>\n",
       "      <th>workclass</th>\n",
       "      <th>final-weight</th>\n",
       "      <th>education</th>\n",
       "      <th>education-num</th>\n",
       "      <th>marital-status</th>\n",
       "      <th>occupation</th>\n",
       "      <th>relationship</th>\n",
       "      <th>race</th>\n",
       "      <th>sex</th>\n",
       "      <th>capital-gain</th>\n",
       "      <th>capital-loos</th>\n",
       "      <th>hour-per-week</th>\n",
       "      <th>native-country</th>\n",
       "      <th>income</th>\n",
       "    </tr>\n",
       "  </thead>\n",
       "  <tbody>\n",
       "    <tr>\n",
       "      <th>0</th>\n",
       "      <td>39</td>\n",
       "      <td>State-gov</td>\n",
       "      <td>77516</td>\n",
       "      <td>Bachelors</td>\n",
       "      <td>13</td>\n",
       "      <td>Never-married</td>\n",
       "      <td>Adm-clerical</td>\n",
       "      <td>Not-in-family</td>\n",
       "      <td>White</td>\n",
       "      <td>Male</td>\n",
       "      <td>2174</td>\n",
       "      <td>0</td>\n",
       "      <td>40</td>\n",
       "      <td>United-States</td>\n",
       "      <td>0</td>\n",
       "    </tr>\n",
       "    <tr>\n",
       "      <th>1</th>\n",
       "      <td>50</td>\n",
       "      <td>Self-emp-not-inc</td>\n",
       "      <td>83311</td>\n",
       "      <td>Bachelors</td>\n",
       "      <td>13</td>\n",
       "      <td>Married-civ-spouse</td>\n",
       "      <td>Exec-managerial</td>\n",
       "      <td>Husband</td>\n",
       "      <td>White</td>\n",
       "      <td>Male</td>\n",
       "      <td>0</td>\n",
       "      <td>0</td>\n",
       "      <td>13</td>\n",
       "      <td>United-States</td>\n",
       "      <td>0</td>\n",
       "    </tr>\n",
       "    <tr>\n",
       "      <th>2</th>\n",
       "      <td>38</td>\n",
       "      <td>Private</td>\n",
       "      <td>215646</td>\n",
       "      <td>HS-grad</td>\n",
       "      <td>9</td>\n",
       "      <td>Divorced</td>\n",
       "      <td>Handlers-cleaners</td>\n",
       "      <td>Not-in-family</td>\n",
       "      <td>White</td>\n",
       "      <td>Male</td>\n",
       "      <td>0</td>\n",
       "      <td>0</td>\n",
       "      <td>40</td>\n",
       "      <td>United-States</td>\n",
       "      <td>0</td>\n",
       "    </tr>\n",
       "    <tr>\n",
       "      <th>3</th>\n",
       "      <td>53</td>\n",
       "      <td>Private</td>\n",
       "      <td>234721</td>\n",
       "      <td>11th</td>\n",
       "      <td>7</td>\n",
       "      <td>Married-civ-spouse</td>\n",
       "      <td>Handlers-cleaners</td>\n",
       "      <td>Husband</td>\n",
       "      <td>Black</td>\n",
       "      <td>Male</td>\n",
       "      <td>0</td>\n",
       "      <td>0</td>\n",
       "      <td>40</td>\n",
       "      <td>United-States</td>\n",
       "      <td>0</td>\n",
       "    </tr>\n",
       "    <tr>\n",
       "      <th>4</th>\n",
       "      <td>28</td>\n",
       "      <td>Private</td>\n",
       "      <td>338409</td>\n",
       "      <td>Bachelors</td>\n",
       "      <td>13</td>\n",
       "      <td>Married-civ-spouse</td>\n",
       "      <td>Prof-specialty</td>\n",
       "      <td>Wife</td>\n",
       "      <td>Black</td>\n",
       "      <td>Female</td>\n",
       "      <td>0</td>\n",
       "      <td>0</td>\n",
       "      <td>40</td>\n",
       "      <td>Cuba</td>\n",
       "      <td>0</td>\n",
       "    </tr>\n",
       "  </tbody>\n",
       "</table>\n",
       "</div>"
      ],
      "text/plain": [
       "   age          workclass  final-weight   education  education-num  \\\n",
       "0   39          State-gov         77516   Bachelors             13   \n",
       "1   50   Self-emp-not-inc         83311   Bachelors             13   \n",
       "2   38            Private        215646     HS-grad              9   \n",
       "3   53            Private        234721        11th              7   \n",
       "4   28            Private        338409   Bachelors             13   \n",
       "\n",
       "        marital-status          occupation    relationship    race      sex  \\\n",
       "0        Never-married        Adm-clerical   Not-in-family   White     Male   \n",
       "1   Married-civ-spouse     Exec-managerial         Husband   White     Male   \n",
       "2             Divorced   Handlers-cleaners   Not-in-family   White     Male   \n",
       "3   Married-civ-spouse   Handlers-cleaners         Husband   Black     Male   \n",
       "4   Married-civ-spouse      Prof-specialty            Wife   Black   Female   \n",
       "\n",
       "   capital-gain  capital-loos  hour-per-week  native-country  income  \n",
       "0          2174             0             40   United-States       0  \n",
       "1             0             0             13   United-States       0  \n",
       "2             0             0             40   United-States       0  \n",
       "3             0             0             40   United-States       0  \n",
       "4             0             0             40            Cuba       0  "
      ]
     },
     "execution_count": 84,
     "metadata": {},
     "output_type": "execute_result"
    }
   ],
   "source": [
    "base.head()"
   ]
  },
  {
   "cell_type": "code",
   "execution_count": 85,
   "metadata": {},
   "outputs": [],
   "source": [
    "X = base.drop('income', axis = 1)\n",
    "y = base.income"
   ]
  },
  {
   "cell_type": "code",
   "execution_count": 86,
   "metadata": {},
   "outputs": [
    {
     "data": {
      "text/html": [
       "<div>\n",
       "<style scoped>\n",
       "    .dataframe tbody tr th:only-of-type {\n",
       "        vertical-align: middle;\n",
       "    }\n",
       "\n",
       "    .dataframe tbody tr th {\n",
       "        vertical-align: top;\n",
       "    }\n",
       "\n",
       "    .dataframe thead th {\n",
       "        text-align: right;\n",
       "    }\n",
       "</style>\n",
       "<table border=\"1\" class=\"dataframe\">\n",
       "  <thead>\n",
       "    <tr style=\"text-align: right;\">\n",
       "      <th></th>\n",
       "      <th>age</th>\n",
       "      <th>workclass</th>\n",
       "      <th>final-weight</th>\n",
       "      <th>education</th>\n",
       "      <th>education-num</th>\n",
       "      <th>marital-status</th>\n",
       "      <th>occupation</th>\n",
       "      <th>relationship</th>\n",
       "      <th>race</th>\n",
       "      <th>sex</th>\n",
       "      <th>capital-gain</th>\n",
       "      <th>capital-loos</th>\n",
       "      <th>hour-per-week</th>\n",
       "      <th>native-country</th>\n",
       "    </tr>\n",
       "  </thead>\n",
       "  <tbody>\n",
       "    <tr>\n",
       "      <th>0</th>\n",
       "      <td>39</td>\n",
       "      <td>State-gov</td>\n",
       "      <td>77516</td>\n",
       "      <td>Bachelors</td>\n",
       "      <td>13</td>\n",
       "      <td>Never-married</td>\n",
       "      <td>Adm-clerical</td>\n",
       "      <td>Not-in-family</td>\n",
       "      <td>White</td>\n",
       "      <td>Male</td>\n",
       "      <td>2174</td>\n",
       "      <td>0</td>\n",
       "      <td>40</td>\n",
       "      <td>United-States</td>\n",
       "    </tr>\n",
       "    <tr>\n",
       "      <th>1</th>\n",
       "      <td>50</td>\n",
       "      <td>Self-emp-not-inc</td>\n",
       "      <td>83311</td>\n",
       "      <td>Bachelors</td>\n",
       "      <td>13</td>\n",
       "      <td>Married-civ-spouse</td>\n",
       "      <td>Exec-managerial</td>\n",
       "      <td>Husband</td>\n",
       "      <td>White</td>\n",
       "      <td>Male</td>\n",
       "      <td>0</td>\n",
       "      <td>0</td>\n",
       "      <td>13</td>\n",
       "      <td>United-States</td>\n",
       "    </tr>\n",
       "    <tr>\n",
       "      <th>2</th>\n",
       "      <td>38</td>\n",
       "      <td>Private</td>\n",
       "      <td>215646</td>\n",
       "      <td>HS-grad</td>\n",
       "      <td>9</td>\n",
       "      <td>Divorced</td>\n",
       "      <td>Handlers-cleaners</td>\n",
       "      <td>Not-in-family</td>\n",
       "      <td>White</td>\n",
       "      <td>Male</td>\n",
       "      <td>0</td>\n",
       "      <td>0</td>\n",
       "      <td>40</td>\n",
       "      <td>United-States</td>\n",
       "    </tr>\n",
       "    <tr>\n",
       "      <th>3</th>\n",
       "      <td>53</td>\n",
       "      <td>Private</td>\n",
       "      <td>234721</td>\n",
       "      <td>11th</td>\n",
       "      <td>7</td>\n",
       "      <td>Married-civ-spouse</td>\n",
       "      <td>Handlers-cleaners</td>\n",
       "      <td>Husband</td>\n",
       "      <td>Black</td>\n",
       "      <td>Male</td>\n",
       "      <td>0</td>\n",
       "      <td>0</td>\n",
       "      <td>40</td>\n",
       "      <td>United-States</td>\n",
       "    </tr>\n",
       "    <tr>\n",
       "      <th>4</th>\n",
       "      <td>28</td>\n",
       "      <td>Private</td>\n",
       "      <td>338409</td>\n",
       "      <td>Bachelors</td>\n",
       "      <td>13</td>\n",
       "      <td>Married-civ-spouse</td>\n",
       "      <td>Prof-specialty</td>\n",
       "      <td>Wife</td>\n",
       "      <td>Black</td>\n",
       "      <td>Female</td>\n",
       "      <td>0</td>\n",
       "      <td>0</td>\n",
       "      <td>40</td>\n",
       "      <td>Cuba</td>\n",
       "    </tr>\n",
       "  </tbody>\n",
       "</table>\n",
       "</div>"
      ],
      "text/plain": [
       "   age          workclass  final-weight   education  education-num  \\\n",
       "0   39          State-gov         77516   Bachelors             13   \n",
       "1   50   Self-emp-not-inc         83311   Bachelors             13   \n",
       "2   38            Private        215646     HS-grad              9   \n",
       "3   53            Private        234721        11th              7   \n",
       "4   28            Private        338409   Bachelors             13   \n",
       "\n",
       "        marital-status          occupation    relationship    race      sex  \\\n",
       "0        Never-married        Adm-clerical   Not-in-family   White     Male   \n",
       "1   Married-civ-spouse     Exec-managerial         Husband   White     Male   \n",
       "2             Divorced   Handlers-cleaners   Not-in-family   White     Male   \n",
       "3   Married-civ-spouse   Handlers-cleaners         Husband   Black     Male   \n",
       "4   Married-civ-spouse      Prof-specialty            Wife   Black   Female   \n",
       "\n",
       "   capital-gain  capital-loos  hour-per-week  native-country  \n",
       "0          2174             0             40   United-States  \n",
       "1             0             0             13   United-States  \n",
       "2             0             0             40   United-States  \n",
       "3             0             0             40   United-States  \n",
       "4             0             0             40            Cuba  "
      ]
     },
     "execution_count": 86,
     "metadata": {},
     "output_type": "execute_result"
    }
   ],
   "source": [
    "X.head()"
   ]
  },
  {
   "cell_type": "code",
   "execution_count": 87,
   "metadata": {},
   "outputs": [
    {
     "data": {
      "text/plain": [
       "0    0\n",
       "1    0\n",
       "2    0\n",
       "3    0\n",
       "4    0\n",
       "Name: income, dtype: int64"
      ]
     },
     "execution_count": 87,
     "metadata": {},
     "output_type": "execute_result"
    }
   ],
   "source": [
    "y.head()"
   ]
  },
  {
   "cell_type": "code",
   "execution_count": 88,
   "metadata": {},
   "outputs": [],
   "source": [
    "from sklearn.model_selection import train_test_split\n",
    "X_treinamento, X_teste, y_treinamento, y_teste = train_test_split(X, y, test_size = 0.3)"
   ]
  },
  {
   "cell_type": "code",
   "execution_count": 89,
   "metadata": {},
   "outputs": [
    {
     "data": {
      "text/plain": [
       "(22792, 14)"
      ]
     },
     "execution_count": 89,
     "metadata": {},
     "output_type": "execute_result"
    }
   ],
   "source": [
    "X_treinamento.shape"
   ]
  },
  {
   "cell_type": "code",
   "execution_count": 90,
   "metadata": {},
   "outputs": [
    {
     "data": {
      "text/plain": [
       "(9769, 14)"
      ]
     },
     "execution_count": 90,
     "metadata": {},
     "output_type": "execute_result"
    }
   ],
   "source": [
    "X_teste.shape"
   ]
  },
  {
   "cell_type": "code",
   "execution_count": 91,
   "metadata": {},
   "outputs": [
    {
     "data": {
      "text/plain": [
       "Index(['age', 'workclass', 'final-weight', 'education', 'education-num',\n",
       "       'marital-status', 'occupation', 'relationship', 'race', 'sex',\n",
       "       'capital-gain', 'capital-loos', 'hour-per-week', 'native-country',\n",
       "       'income'],\n",
       "      dtype='object')"
      ]
     },
     "execution_count": 91,
     "metadata": {},
     "output_type": "execute_result"
    }
   ],
   "source": [
    "base.columns"
   ]
  },
  {
   "cell_type": "code",
   "execution_count": 92,
   "metadata": {},
   "outputs": [],
   "source": [
    "import tensorflow as tf"
   ]
  },
  {
   "cell_type": "code",
   "execution_count": 93,
   "metadata": {},
   "outputs": [
    {
     "data": {
      "text/plain": [
       "array([' State-gov', ' Self-emp-not-inc', ' Private', ' Federal-gov',\n",
       "       ' Local-gov', ' ?', ' Self-emp-inc', ' Without-pay',\n",
       "       ' Never-worked'], dtype=object)"
      ]
     },
     "execution_count": 93,
     "metadata": {},
     "output_type": "execute_result"
    }
   ],
   "source": [
    "base.workclass.unique()"
   ]
  },
  {
   "cell_type": "code",
   "execution_count": 94,
   "metadata": {},
   "outputs": [],
   "source": [
    "workclass = tf.feature_column.categorical_column_with_hash_bucket(key = 'workclass', hash_bucket_size = 100)\n",
    "education = tf.feature_column.categorical_column_with_hash_bucket(key = 'education', hash_bucket_size = 100)\n",
    "marital_status = tf.feature_column.categorical_column_with_hash_bucket(key = 'marital-status', hash_bucket_size = 100)\n",
    "occupation = tf.feature_column.categorical_column_with_hash_bucket(key = 'occupation', hash_bucket_size = 100)\n",
    "relationship = tf.feature_column.categorical_column_with_hash_bucket(key = 'relationship', hash_bucket_size = 100)\n",
    "race = tf.feature_column.categorical_column_with_hash_bucket(key = 'race', hash_bucket_size = 100)\n",
    "country = tf.feature_column.categorical_column_with_hash_bucket(key = 'native-country', hash_bucket_size = 100)"
   ]
  },
  {
   "cell_type": "code",
   "execution_count": 95,
   "metadata": {},
   "outputs": [
    {
     "data": {
      "text/plain": [
       "array([' Male', ' Female'], dtype=object)"
      ]
     },
     "execution_count": 95,
     "metadata": {},
     "output_type": "execute_result"
    }
   ],
   "source": [
    "base.sex.unique()"
   ]
  },
  {
   "cell_type": "code",
   "execution_count": 96,
   "metadata": {},
   "outputs": [],
   "source": [
    "sex = tf.feature_column.categorical_column_with_vocabulary_list(key = 'sex', vocabulary_list=[' Male', ' Female'])"
   ]
  },
  {
   "cell_type": "code",
   "execution_count": 97,
   "metadata": {},
   "outputs": [
    {
     "data": {
      "text/plain": [
       "38.58164675532078"
      ]
     },
     "execution_count": 97,
     "metadata": {},
     "output_type": "execute_result"
    }
   ],
   "source": [
    "base.age.mean()"
   ]
  },
  {
   "cell_type": "code",
   "execution_count": 98,
   "metadata": {},
   "outputs": [
    {
     "data": {
      "text/plain": [
       "13.640432553581146"
      ]
     },
     "execution_count": 98,
     "metadata": {},
     "output_type": "execute_result"
    }
   ],
   "source": [
    "base.age.std()"
   ]
  },
  {
   "cell_type": "code",
   "execution_count": 99,
   "metadata": {},
   "outputs": [],
   "source": [
    "def padroniza_age(valor):\n",
    "    return tf.divide(tf.subtract(tf.cast(valor, tf.float32), tf.constant(38.58)), tf.constant(13.64))\n",
    "\n",
    "def padroniza_finalweight(valor):\n",
    "    return tf.divide(tf.subtract(tf.cast(valor, tf.float32), tf.constant(189778.36)), tf.constant(105549.977))\n",
    "\n",
    "def padroniza_education(valor):\n",
    "    return tf.divide(tf.subtract(tf.cast(valor, tf.float32), tf.constant(10.08)), tf.constant(2.57))\n",
    "\n",
    "def padroniza_capitalgain(valor):\n",
    "    return tf.divide(tf.subtract(tf.cast(valor, tf.float32), tf.constant(1077.64)), tf.constant(7385.29))\n",
    "\n",
    "def padroniza_capitalloos(valor):\n",
    "    return tf.divide(tf.subtract(tf.cast(valor, tf.float32), tf.constant(87.30)), tf.constant(402.96))\n",
    "\n",
    "def padroniza_hour(valor):\n",
    "    return tf.divide(tf.subtract(tf.cast(valor, tf.float32), tf.constant(40.43)), tf.constant(12.34))"
   ]
  },
  {
   "cell_type": "code",
   "execution_count": 100,
   "metadata": {},
   "outputs": [],
   "source": [
    "age = tf.feature_column.numeric_column(key = 'age', normalizer_fn = padroniza_age)\n",
    "final_weight = tf.feature_column.numeric_column(key = 'final-weight', normalizer_fn = padroniza_finalweight)\n",
    "education_num = tf.feature_column.numeric_column(key = 'education-num', normalizer_fn = padroniza_education)\n",
    "capital_gain = tf.feature_column.numeric_column(key = 'capital-gain', normalizer_fn = padroniza_capitalgain)\n",
    "capital_loos = tf.feature_column.numeric_column(key = 'capital-loos', normalizer_fn = padroniza_capitalloos)\n",
    "hour = tf.feature_column.numeric_column(key = 'hour-per-week', normalizer_fn = padroniza_hour)"
   ]
  },
  {
   "cell_type": "markdown",
   "metadata": {},
   "source": [
    "colunas = [age, workclass, final_weight, education, education_num,\n",
    "           marital_status, occupation, relationship, race, sex,\n",
    "           capital_gain, capital_loos, hour, country]"
   ]
  },
  {
   "cell_type": "markdown",
   "metadata": {},
   "source": [
    "colunas[1]"
   ]
  },
  {
   "cell_type": "markdown",
   "metadata": {},
   "source": [
    "funcao_treinamento = tf.estimator.inputs.pandas_input_fn(x = X_treinamento, y = y_treinamento,\n",
    "                                                        batch_size = 32, num_epochs = None, shuffle = True)\n",
    "classificador = tf.estimator.DNNClassifier(hidden_units = [8, 8], feature_columns=colunas, n_classes=2)\n",
    "classificador.train(input_fn = funcao_treinamento)"
   ]
  },
  {
   "cell_type": "code",
   "execution_count": 101,
   "metadata": {},
   "outputs": [
    {
     "data": {
      "text/plain": [
       "9"
      ]
     },
     "execution_count": 101,
     "metadata": {},
     "output_type": "execute_result"
    }
   ],
   "source": [
    "len(base.workclass.unique())"
   ]
  },
  {
   "cell_type": "code",
   "execution_count": 102,
   "metadata": {},
   "outputs": [],
   "source": [
    "embedded_workclass = tf.feature_column.embedding_column(workclass, dimension = 9)\n",
    "embedded_education = tf.feature_column.embedding_column(education, dimension = len(base.education.unique()))\n",
    "embedded_marital = tf.feature_column.embedding_column(marital_status, dimension = len(base['marital-status'].unique()))\n",
    "embedded_occupation = tf.feature_column.embedding_column(occupation, dimension = len(base.occupation.unique()))\n",
    "embedded_relationship = tf.feature_column.embedding_column(relationship, dimension = len(base.relationship.unique()))\n",
    "embedded_race = tf.feature_column.embedding_column(race, dimension = len(base.race.unique()))\n",
    "embedded_sex = tf.feature_column.embedding_column(sex, dimension = len(base.sex.unique()))\n",
    "embedded_country = tf.feature_column.embedding_column(country, dimension = len(base['native-country'].unique()))"
   ]
  },
  {
   "cell_type": "code",
   "execution_count": 103,
   "metadata": {},
   "outputs": [],
   "source": [
    "colunas_rna = [age, embedded_workclass, final_weight, embedded_education, education_num,\n",
    "               embedded_marital, embedded_occupation, embedded_relationship, \n",
    "               embedded_race, embedded_sex,\n",
    "               capital_gain, capital_loos, hour, embedded_country]"
   ]
  },
  {
   "cell_type": "code",
   "execution_count": 104,
   "metadata": {},
   "outputs": [
    {
     "name": "stdout",
     "output_type": "stream",
     "text": [
      "INFO:tensorflow:Using default config.\n",
      "WARNING:tensorflow:Using temporary folder as model directory: /var/folders/7f/wlmrltf57q95bdd5fl85dpw40000gn/T/tmpf415sf5k\n",
      "INFO:tensorflow:Using config: {'_model_dir': '/var/folders/7f/wlmrltf57q95bdd5fl85dpw40000gn/T/tmpf415sf5k', '_tf_random_seed': None, '_save_summary_steps': 100, '_save_checkpoints_steps': None, '_save_checkpoints_secs': 600, '_session_config': allow_soft_placement: true\n",
      "graph_options {\n",
      "  rewrite_options {\n",
      "    meta_optimizer_iterations: ONE\n",
      "  }\n",
      "}\n",
      ", '_keep_checkpoint_max': 5, '_keep_checkpoint_every_n_hours': 10000, '_log_step_count_steps': 100, '_train_distribute': None, '_device_fn': None, '_protocol': None, '_eval_distribute': None, '_experimental_distribute': None, '_service': None, '_cluster_spec': <tensorflow.python.training.server_lib.ClusterSpec object at 0x1a2618ab00>, '_task_type': 'worker', '_task_id': 0, '_global_id_in_cluster': 0, '_master': '', '_evaluation_master': '', '_is_chief': True, '_num_ps_replicas': 0, '_num_worker_replicas': 1}\n",
      "INFO:tensorflow:Calling model_fn.\n",
      "INFO:tensorflow:Done calling model_fn.\n",
      "INFO:tensorflow:Create CheckpointSaverHook.\n",
      "INFO:tensorflow:Graph was finalized.\n",
      "INFO:tensorflow:Running local_init_op.\n",
      "INFO:tensorflow:Done running local_init_op.\n",
      "INFO:tensorflow:Saving checkpoints for 0 into /var/folders/7f/wlmrltf57q95bdd5fl85dpw40000gn/T/tmpf415sf5k/model.ckpt.\n",
      "INFO:tensorflow:loss = 20.876432, step = 1\n",
      "INFO:tensorflow:global_step/sec: 141.195\n",
      "INFO:tensorflow:loss = 11.609505, step = 101 (0.709 sec)\n",
      "INFO:tensorflow:global_step/sec: 299.948\n",
      "INFO:tensorflow:loss = 6.9844155, step = 201 (0.333 sec)\n",
      "INFO:tensorflow:global_step/sec: 296.923\n",
      "INFO:tensorflow:loss = 12.054031, step = 301 (0.337 sec)\n",
      "INFO:tensorflow:global_step/sec: 340.047\n",
      "INFO:tensorflow:loss = 14.3504715, step = 401 (0.296 sec)\n",
      "INFO:tensorflow:global_step/sec: 295.741\n",
      "INFO:tensorflow:loss = 9.303655, step = 501 (0.338 sec)\n",
      "INFO:tensorflow:global_step/sec: 327.689\n",
      "INFO:tensorflow:loss = 9.957838, step = 601 (0.304 sec)\n",
      "INFO:tensorflow:global_step/sec: 316.064\n",
      "INFO:tensorflow:loss = 7.5921574, step = 701 (0.318 sec)\n",
      "INFO:tensorflow:global_step/sec: 316.963\n",
      "INFO:tensorflow:loss = 6.285926, step = 801 (0.315 sec)\n",
      "INFO:tensorflow:global_step/sec: 345.284\n",
      "INFO:tensorflow:loss = 7.181012, step = 901 (0.291 sec)\n",
      "INFO:tensorflow:global_step/sec: 327.546\n",
      "INFO:tensorflow:loss = 6.025301, step = 1001 (0.304 sec)\n",
      "INFO:tensorflow:global_step/sec: 349.194\n",
      "INFO:tensorflow:loss = 8.579573, step = 1101 (0.289 sec)\n",
      "INFO:tensorflow:global_step/sec: 330.296\n",
      "INFO:tensorflow:loss = 6.9487433, step = 1201 (0.301 sec)\n",
      "INFO:tensorflow:global_step/sec: 327.601\n",
      "INFO:tensorflow:loss = 10.816837, step = 1301 (0.305 sec)\n",
      "INFO:tensorflow:global_step/sec: 324.699\n",
      "INFO:tensorflow:loss = 4.858918, step = 1401 (0.309 sec)\n",
      "INFO:tensorflow:global_step/sec: 318.573\n",
      "INFO:tensorflow:loss = 9.455776, step = 1501 (0.313 sec)\n",
      "INFO:tensorflow:global_step/sec: 328.482\n",
      "INFO:tensorflow:loss = 6.674761, step = 1601 (0.303 sec)\n",
      "INFO:tensorflow:global_step/sec: 328.666\n",
      "INFO:tensorflow:loss = 5.087702, step = 1701 (0.305 sec)\n",
      "INFO:tensorflow:global_step/sec: 346.475\n",
      "INFO:tensorflow:loss = 10.674351, step = 1801 (0.288 sec)\n",
      "INFO:tensorflow:global_step/sec: 332.613\n",
      "INFO:tensorflow:loss = 8.585301, step = 1901 (0.302 sec)\n",
      "INFO:tensorflow:global_step/sec: 338.775\n",
      "INFO:tensorflow:loss = 9.808889, step = 2001 (0.293 sec)\n",
      "INFO:tensorflow:global_step/sec: 333.885\n",
      "INFO:tensorflow:loss = 10.215139, step = 2101 (0.299 sec)\n",
      "INFO:tensorflow:global_step/sec: 342.806\n",
      "INFO:tensorflow:loss = 10.561817, step = 2201 (0.292 sec)\n",
      "INFO:tensorflow:global_step/sec: 308.608\n",
      "INFO:tensorflow:loss = 6.2765903, step = 2301 (0.322 sec)\n",
      "INFO:tensorflow:global_step/sec: 344.933\n",
      "INFO:tensorflow:loss = 4.4474406, step = 2401 (0.292 sec)\n",
      "INFO:tensorflow:global_step/sec: 314.861\n",
      "INFO:tensorflow:loss = 7.401169, step = 2501 (0.317 sec)\n",
      "INFO:tensorflow:global_step/sec: 314.338\n",
      "INFO:tensorflow:loss = 4.590215, step = 2601 (0.317 sec)\n",
      "INFO:tensorflow:global_step/sec: 287.45\n",
      "INFO:tensorflow:loss = 10.054376, step = 2701 (0.347 sec)\n",
      "INFO:tensorflow:global_step/sec: 286.64\n",
      "INFO:tensorflow:loss = 10.182831, step = 2801 (0.349 sec)\n",
      "INFO:tensorflow:global_step/sec: 295.146\n",
      "INFO:tensorflow:loss = 8.811587, step = 2901 (0.339 sec)\n",
      "INFO:tensorflow:global_step/sec: 324.643\n",
      "INFO:tensorflow:loss = 12.888407, step = 3001 (0.312 sec)\n",
      "INFO:tensorflow:global_step/sec: 293.628\n",
      "INFO:tensorflow:loss = 4.121532, step = 3101 (0.337 sec)\n",
      "INFO:tensorflow:global_step/sec: 341.408\n",
      "INFO:tensorflow:loss = 11.100976, step = 3201 (0.295 sec)\n",
      "INFO:tensorflow:global_step/sec: 282.968\n",
      "INFO:tensorflow:loss = 9.438206, step = 3301 (0.351 sec)\n",
      "INFO:tensorflow:global_step/sec: 294.667\n",
      "INFO:tensorflow:loss = 13.186365, step = 3401 (0.339 sec)\n",
      "INFO:tensorflow:global_step/sec: 309.001\n",
      "INFO:tensorflow:loss = 9.750561, step = 3501 (0.324 sec)\n",
      "INFO:tensorflow:global_step/sec: 327.178\n",
      "INFO:tensorflow:loss = 7.741351, step = 3601 (0.307 sec)\n",
      "INFO:tensorflow:global_step/sec: 345.472\n",
      "INFO:tensorflow:loss = 9.542549, step = 3701 (0.289 sec)\n",
      "INFO:tensorflow:global_step/sec: 337.666\n",
      "INFO:tensorflow:loss = 11.018101, step = 3801 (0.297 sec)\n",
      "INFO:tensorflow:global_step/sec: 374.811\n",
      "INFO:tensorflow:loss = 7.259844, step = 3901 (0.267 sec)\n",
      "INFO:tensorflow:global_step/sec: 324.705\n",
      "INFO:tensorflow:loss = 17.05455, step = 4001 (0.307 sec)\n",
      "INFO:tensorflow:global_step/sec: 333.25\n",
      "INFO:tensorflow:loss = 7.32985, step = 4101 (0.300 sec)\n",
      "INFO:tensorflow:global_step/sec: 349.586\n",
      "INFO:tensorflow:loss = 17.022533, step = 4201 (0.289 sec)\n",
      "INFO:tensorflow:global_step/sec: 342.794\n",
      "INFO:tensorflow:loss = 11.698382, step = 4301 (0.290 sec)\n",
      "INFO:tensorflow:global_step/sec: 327.333\n",
      "INFO:tensorflow:loss = 19.290377, step = 4401 (0.306 sec)\n",
      "INFO:tensorflow:global_step/sec: 320.955\n",
      "INFO:tensorflow:loss = 9.243101, step = 4501 (0.309 sec)\n",
      "INFO:tensorflow:global_step/sec: 332.011\n",
      "INFO:tensorflow:loss = 10.953583, step = 4601 (0.303 sec)\n",
      "INFO:tensorflow:global_step/sec: 353.101\n",
      "INFO:tensorflow:loss = 9.686698, step = 4701 (0.284 sec)\n",
      "INFO:tensorflow:global_step/sec: 354.444\n",
      "INFO:tensorflow:loss = 10.177429, step = 4801 (0.281 sec)\n",
      "INFO:tensorflow:global_step/sec: 353.16\n",
      "INFO:tensorflow:loss = 6.761597, step = 4901 (0.283 sec)\n",
      "INFO:tensorflow:global_step/sec: 343.721\n",
      "INFO:tensorflow:loss = 15.781371, step = 5001 (0.291 sec)\n",
      "INFO:tensorflow:global_step/sec: 333.048\n",
      "INFO:tensorflow:loss = 12.527397, step = 5101 (0.301 sec)\n",
      "INFO:tensorflow:global_step/sec: 332.77\n",
      "INFO:tensorflow:loss = 10.836185, step = 5201 (0.301 sec)\n",
      "INFO:tensorflow:global_step/sec: 350.985\n",
      "INFO:tensorflow:loss = 12.858137, step = 5301 (0.283 sec)\n",
      "INFO:tensorflow:global_step/sec: 347.958\n",
      "INFO:tensorflow:loss = 17.176428, step = 5401 (0.290 sec)\n",
      "INFO:tensorflow:global_step/sec: 349.165\n",
      "INFO:tensorflow:loss = 7.548726, step = 5501 (0.287 sec)\n",
      "INFO:tensorflow:global_step/sec: 305.852\n",
      "INFO:tensorflow:loss = 13.710682, step = 5601 (0.323 sec)\n",
      "INFO:tensorflow:global_step/sec: 328.977\n",
      "INFO:tensorflow:loss = 5.148, step = 5701 (0.306 sec)\n",
      "INFO:tensorflow:global_step/sec: 347.624\n",
      "INFO:tensorflow:loss = 6.602684, step = 5801 (0.287 sec)\n",
      "INFO:tensorflow:global_step/sec: 355.213\n",
      "INFO:tensorflow:loss = 6.505745, step = 5901 (0.282 sec)\n",
      "INFO:tensorflow:global_step/sec: 309.2\n",
      "INFO:tensorflow:loss = 8.283876, step = 6001 (0.323 sec)\n",
      "INFO:tensorflow:global_step/sec: 348.681\n",
      "INFO:tensorflow:loss = 9.92911, step = 6101 (0.286 sec)\n",
      "INFO:tensorflow:global_step/sec: 326.489\n",
      "INFO:tensorflow:loss = 10.095624, step = 6201 (0.309 sec)\n",
      "INFO:tensorflow:global_step/sec: 342.167\n",
      "INFO:tensorflow:loss = 14.187301, step = 6301 (0.291 sec)\n",
      "INFO:tensorflow:global_step/sec: 353.255\n",
      "INFO:tensorflow:loss = 4.375562, step = 6401 (0.283 sec)\n",
      "INFO:tensorflow:global_step/sec: 334.744\n",
      "INFO:tensorflow:loss = 10.467787, step = 6501 (0.298 sec)\n",
      "INFO:tensorflow:global_step/sec: 363.182\n",
      "INFO:tensorflow:loss = 8.452007, step = 6601 (0.276 sec)\n",
      "INFO:tensorflow:global_step/sec: 352.289\n",
      "INFO:tensorflow:loss = 11.707357, step = 6701 (0.282 sec)\n",
      "INFO:tensorflow:global_step/sec: 310.3\n",
      "INFO:tensorflow:loss = 9.599977, step = 6801 (0.322 sec)\n",
      "INFO:tensorflow:global_step/sec: 326.3\n",
      "INFO:tensorflow:loss = 6.9248724, step = 6901 (0.306 sec)\n"
     ]
    },
    {
     "name": "stdout",
     "output_type": "stream",
     "text": [
      "INFO:tensorflow:global_step/sec: 326.536\n",
      "INFO:tensorflow:loss = 8.061034, step = 7001 (0.306 sec)\n",
      "INFO:tensorflow:global_step/sec: 328.093\n",
      "INFO:tensorflow:loss = 13.10276, step = 7101 (0.305 sec)\n",
      "INFO:tensorflow:global_step/sec: 325.665\n",
      "INFO:tensorflow:loss = 6.4659805, step = 7201 (0.307 sec)\n",
      "INFO:tensorflow:global_step/sec: 351.6\n",
      "INFO:tensorflow:loss = 7.020935, step = 7301 (0.286 sec)\n",
      "INFO:tensorflow:global_step/sec: 378.793\n",
      "INFO:tensorflow:loss = 6.00879, step = 7401 (0.264 sec)\n",
      "INFO:tensorflow:global_step/sec: 319.516\n",
      "INFO:tensorflow:loss = 9.783718, step = 7501 (0.311 sec)\n",
      "INFO:tensorflow:global_step/sec: 324.782\n",
      "INFO:tensorflow:loss = 7.849255, step = 7601 (0.308 sec)\n",
      "INFO:tensorflow:global_step/sec: 331.563\n",
      "INFO:tensorflow:loss = 12.040825, step = 7701 (0.302 sec)\n",
      "INFO:tensorflow:global_step/sec: 327.422\n",
      "INFO:tensorflow:loss = 9.833123, step = 7801 (0.305 sec)\n",
      "INFO:tensorflow:global_step/sec: 331.749\n",
      "INFO:tensorflow:loss = 5.5378847, step = 7901 (0.302 sec)\n",
      "INFO:tensorflow:global_step/sec: 344.48\n",
      "INFO:tensorflow:loss = 5.7930403, step = 8001 (0.291 sec)\n",
      "INFO:tensorflow:global_step/sec: 316.101\n",
      "INFO:tensorflow:loss = 7.0872307, step = 8101 (0.315 sec)\n",
      "INFO:tensorflow:global_step/sec: 338.129\n",
      "INFO:tensorflow:loss = 6.5088263, step = 8201 (0.298 sec)\n",
      "INFO:tensorflow:global_step/sec: 323.425\n",
      "INFO:tensorflow:loss = 15.301827, step = 8301 (0.307 sec)\n",
      "INFO:tensorflow:global_step/sec: 320.547\n",
      "INFO:tensorflow:loss = 7.284957, step = 8401 (0.312 sec)\n",
      "INFO:tensorflow:global_step/sec: 324.993\n",
      "INFO:tensorflow:loss = 7.6713767, step = 8501 (0.308 sec)\n",
      "INFO:tensorflow:global_step/sec: 318.463\n",
      "INFO:tensorflow:loss = 12.483152, step = 8601 (0.314 sec)\n",
      "INFO:tensorflow:global_step/sec: 322.333\n",
      "INFO:tensorflow:loss = 11.423468, step = 8701 (0.310 sec)\n",
      "INFO:tensorflow:global_step/sec: 326.237\n",
      "INFO:tensorflow:loss = 7.897526, step = 8801 (0.307 sec)\n",
      "INFO:tensorflow:global_step/sec: 355.038\n",
      "INFO:tensorflow:loss = 8.875294, step = 8901 (0.284 sec)\n",
      "INFO:tensorflow:global_step/sec: 322.534\n",
      "INFO:tensorflow:loss = 15.0968, step = 9001 (0.308 sec)\n",
      "INFO:tensorflow:global_step/sec: 323.971\n",
      "INFO:tensorflow:loss = 14.957191, step = 9101 (0.308 sec)\n",
      "INFO:tensorflow:global_step/sec: 326.706\n",
      "INFO:tensorflow:loss = 13.6683655, step = 9201 (0.306 sec)\n",
      "INFO:tensorflow:global_step/sec: 320.659\n",
      "INFO:tensorflow:loss = 11.532865, step = 9301 (0.312 sec)\n",
      "INFO:tensorflow:global_step/sec: 349.65\n",
      "INFO:tensorflow:loss = 6.9877653, step = 9401 (0.288 sec)\n",
      "INFO:tensorflow:global_step/sec: 349.572\n",
      "INFO:tensorflow:loss = 10.333015, step = 9501 (0.286 sec)\n",
      "INFO:tensorflow:global_step/sec: 323.514\n",
      "INFO:tensorflow:loss = 9.941242, step = 9601 (0.307 sec)\n",
      "INFO:tensorflow:global_step/sec: 328.858\n",
      "INFO:tensorflow:loss = 12.405344, step = 9701 (0.305 sec)\n",
      "INFO:tensorflow:global_step/sec: 320.912\n",
      "INFO:tensorflow:loss = 13.716091, step = 9801 (0.311 sec)\n",
      "INFO:tensorflow:global_step/sec: 332.341\n",
      "INFO:tensorflow:loss = 8.580544, step = 9901 (0.301 sec)\n",
      "INFO:tensorflow:Saving checkpoints for 10000 into /var/folders/7f/wlmrltf57q95bdd5fl85dpw40000gn/T/tmpf415sf5k/model.ckpt.\n",
      "INFO:tensorflow:Loss for final step: 9.941246.\n"
     ]
    },
    {
     "data": {
      "text/plain": [
       "<tensorflow.python.estimator.canned.dnn.DNNClassifier at 0x1a265585c0>"
      ]
     },
     "execution_count": 104,
     "metadata": {},
     "output_type": "execute_result"
    }
   ],
   "source": [
    "funcao_treinamento = tf.estimator.inputs.pandas_input_fn(x = X_treinamento, y = y_treinamento,\n",
    "                                                        batch_size = 32, num_epochs = None, shuffle = True)\n",
    "classificador = tf.estimator.DNNClassifier(hidden_units = [8, 8], feature_columns=colunas_rna, n_classes=2)\n",
    "classificador.train(input_fn = funcao_treinamento, steps = 10000)"
   ]
  },
  {
   "cell_type": "code",
   "execution_count": 105,
   "metadata": {},
   "outputs": [],
   "source": [
    "funcao_teste = tf.estimator.inputs.pandas_input_fn(x = X_teste, y = y_teste, batch_size = 32,\n",
    "                                                  num_epochs = 1, shuffle = False)"
   ]
  },
  {
   "cell_type": "code",
   "execution_count": 106,
   "metadata": {},
   "outputs": [
    {
     "name": "stdout",
     "output_type": "stream",
     "text": [
      "INFO:tensorflow:Calling model_fn.\n",
      "WARNING:tensorflow:Trapezoidal rule is known to produce incorrect PR-AUCs; please switch to \"careful_interpolation\" instead.\n",
      "WARNING:tensorflow:Trapezoidal rule is known to produce incorrect PR-AUCs; please switch to \"careful_interpolation\" instead.\n",
      "INFO:tensorflow:Done calling model_fn.\n",
      "INFO:tensorflow:Starting evaluation at 2018-11-08-21:34:54\n",
      "INFO:tensorflow:Graph was finalized.\n",
      "INFO:tensorflow:Restoring parameters from /var/folders/7f/wlmrltf57q95bdd5fl85dpw40000gn/T/tmpf415sf5k/model.ckpt-10000\n",
      "INFO:tensorflow:Running local_init_op.\n",
      "INFO:tensorflow:Done running local_init_op.\n",
      "INFO:tensorflow:Finished evaluation at 2018-11-08-21:34:56\n",
      "INFO:tensorflow:Saving dict for global step 10000: accuracy = 0.8587368, accuracy_baseline = 0.76333296, auc = 0.91518855, auc_precision_recall = 0.78408, average_loss = 0.3043459, global_step = 10000, label/mean = 0.236667, loss = 9.716193, precision = 0.716946, prediction/mean = 0.25281367, recall = 0.66608995\n",
      "INFO:tensorflow:Saving 'checkpoint_path' summary for global step 10000: /var/folders/7f/wlmrltf57q95bdd5fl85dpw40000gn/T/tmpf415sf5k/model.ckpt-10000\n"
     ]
    },
    {
     "data": {
      "text/plain": [
       "{'accuracy': 0.8587368,\n",
       " 'accuracy_baseline': 0.76333296,\n",
       " 'auc': 0.91518855,\n",
       " 'auc_precision_recall': 0.78408,\n",
       " 'average_loss': 0.3043459,\n",
       " 'label/mean': 0.236667,\n",
       " 'loss': 9.716193,\n",
       " 'precision': 0.716946,\n",
       " 'prediction/mean': 0.25281367,\n",
       " 'recall': 0.66608995,\n",
       " 'global_step': 10000}"
      ]
     },
     "execution_count": 106,
     "metadata": {},
     "output_type": "execute_result"
    }
   ],
   "source": [
    "classificador.evaluate(input_fn=funcao_teste)"
   ]
  },
  {
   "cell_type": "markdown",
   "metadata": {},
   "source": [
    "https://towardsdatascience.com/how-to-normalize-features-in-tensorflow-5b7b0e3a4177"
   ]
  }
 ],
 "metadata": {
  "kernelspec": {
   "display_name": "Python 3",
   "language": "python",
   "name": "python3"
  },
  "language_info": {
   "codemirror_mode": {
    "name": "ipython",
    "version": 3
   },
   "file_extension": ".py",
   "mimetype": "text/x-python",
   "name": "python",
   "nbconvert_exporter": "python",
   "pygments_lexer": "ipython3",
   "version": "3.6.7"
  }
 },
 "nbformat": 4,
 "nbformat_minor": 2
}
