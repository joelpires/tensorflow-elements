{
 "cells": [
  {
   "cell_type": "code",
   "execution_count": 1,
   "metadata": {},
   "outputs": [
    {
     "name": "stderr",
     "output_type": "stream",
     "text": [
      "C:\\Users\\Joel Pires\\AppData\\Roaming\\Python\\Python36\\site-packages\\tensorflow\\python\\framework\\dtypes.py:519: FutureWarning: Passing (type, 1) or '1type' as a synonym of type is deprecated; in a future version of numpy, it will be understood as (type, (1,)) / '(1,)type'.\n",
      "  _np_qint8 = np.dtype([(\"qint8\", np.int8, 1)])\n",
      "C:\\Users\\Joel Pires\\AppData\\Roaming\\Python\\Python36\\site-packages\\tensorflow\\python\\framework\\dtypes.py:520: FutureWarning: Passing (type, 1) or '1type' as a synonym of type is deprecated; in a future version of numpy, it will be understood as (type, (1,)) / '(1,)type'.\n",
      "  _np_quint8 = np.dtype([(\"quint8\", np.uint8, 1)])\n",
      "C:\\Users\\Joel Pires\\AppData\\Roaming\\Python\\Python36\\site-packages\\tensorflow\\python\\framework\\dtypes.py:521: FutureWarning: Passing (type, 1) or '1type' as a synonym of type is deprecated; in a future version of numpy, it will be understood as (type, (1,)) / '(1,)type'.\n",
      "  _np_qint16 = np.dtype([(\"qint16\", np.int16, 1)])\n",
      "C:\\Users\\Joel Pires\\AppData\\Roaming\\Python\\Python36\\site-packages\\tensorflow\\python\\framework\\dtypes.py:522: FutureWarning: Passing (type, 1) or '1type' as a synonym of type is deprecated; in a future version of numpy, it will be understood as (type, (1,)) / '(1,)type'.\n",
      "  _np_quint16 = np.dtype([(\"quint16\", np.uint16, 1)])\n",
      "C:\\Users\\Joel Pires\\AppData\\Roaming\\Python\\Python36\\site-packages\\tensorflow\\python\\framework\\dtypes.py:523: FutureWarning: Passing (type, 1) or '1type' as a synonym of type is deprecated; in a future version of numpy, it will be understood as (type, (1,)) / '(1,)type'.\n",
      "  _np_qint32 = np.dtype([(\"qint32\", np.int32, 1)])\n",
      "C:\\Users\\Joel Pires\\AppData\\Roaming\\Python\\Python36\\site-packages\\tensorflow\\python\\framework\\dtypes.py:528: FutureWarning: Passing (type, 1) or '1type' as a synonym of type is deprecated; in a future version of numpy, it will be understood as (type, (1,)) / '(1,)type'.\n",
      "  np_resource = np.dtype([(\"resource\", np.ubyte, 1)])\n"
     ]
    }
   ],
   "source": [
    "import pandas as pd\n",
    "import numpy as np\n",
    "import tensorflow as tf\n",
    "from sklearn.preprocessing import StandardScaler\n",
    "from sklearn.model_selection import train_test_split"
   ]
  },
  {
   "cell_type": "code",
   "execution_count": 2,
   "metadata": {},
   "outputs": [
    {
     "data": {
      "text/html": [
       "<div>\n",
       "<style scoped>\n",
       "    .dataframe tbody tr th:only-of-type {\n",
       "        vertical-align: middle;\n",
       "    }\n",
       "\n",
       "    .dataframe tbody tr th {\n",
       "        vertical-align: top;\n",
       "    }\n",
       "\n",
       "    .dataframe thead th {\n",
       "        text-align: right;\n",
       "    }\n",
       "</style>\n",
       "<table border=\"1\" class=\"dataframe\">\n",
       "  <thead>\n",
       "    <tr style=\"text-align: right;\">\n",
       "      <th></th>\n",
       "      <th>id</th>\n",
       "      <th>date</th>\n",
       "      <th>price</th>\n",
       "      <th>bedrooms</th>\n",
       "      <th>bathrooms</th>\n",
       "      <th>sqft_living</th>\n",
       "      <th>sqft_lot</th>\n",
       "      <th>floors</th>\n",
       "      <th>waterfront</th>\n",
       "      <th>view</th>\n",
       "      <th>...</th>\n",
       "      <th>grade</th>\n",
       "      <th>sqft_above</th>\n",
       "      <th>sqft_basement</th>\n",
       "      <th>yr_built</th>\n",
       "      <th>yr_renovated</th>\n",
       "      <th>zipcode</th>\n",
       "      <th>lat</th>\n",
       "      <th>long</th>\n",
       "      <th>sqft_living15</th>\n",
       "      <th>sqft_lot15</th>\n",
       "    </tr>\n",
       "  </thead>\n",
       "  <tbody>\n",
       "    <tr>\n",
       "      <th>0</th>\n",
       "      <td>7129300520</td>\n",
       "      <td>20141013T000000</td>\n",
       "      <td>221900.0</td>\n",
       "      <td>3</td>\n",
       "      <td>1.00</td>\n",
       "      <td>1180</td>\n",
       "      <td>5650</td>\n",
       "      <td>1.0</td>\n",
       "      <td>0</td>\n",
       "      <td>0</td>\n",
       "      <td>...</td>\n",
       "      <td>7</td>\n",
       "      <td>1180</td>\n",
       "      <td>0</td>\n",
       "      <td>1955</td>\n",
       "      <td>0</td>\n",
       "      <td>98178</td>\n",
       "      <td>47.5112</td>\n",
       "      <td>-122.257</td>\n",
       "      <td>1340</td>\n",
       "      <td>5650</td>\n",
       "    </tr>\n",
       "    <tr>\n",
       "      <th>1</th>\n",
       "      <td>6414100192</td>\n",
       "      <td>20141209T000000</td>\n",
       "      <td>538000.0</td>\n",
       "      <td>3</td>\n",
       "      <td>2.25</td>\n",
       "      <td>2570</td>\n",
       "      <td>7242</td>\n",
       "      <td>2.0</td>\n",
       "      <td>0</td>\n",
       "      <td>0</td>\n",
       "      <td>...</td>\n",
       "      <td>7</td>\n",
       "      <td>2170</td>\n",
       "      <td>400</td>\n",
       "      <td>1951</td>\n",
       "      <td>1991</td>\n",
       "      <td>98125</td>\n",
       "      <td>47.7210</td>\n",
       "      <td>-122.319</td>\n",
       "      <td>1690</td>\n",
       "      <td>7639</td>\n",
       "    </tr>\n",
       "    <tr>\n",
       "      <th>2</th>\n",
       "      <td>5631500400</td>\n",
       "      <td>20150225T000000</td>\n",
       "      <td>180000.0</td>\n",
       "      <td>2</td>\n",
       "      <td>1.00</td>\n",
       "      <td>770</td>\n",
       "      <td>10000</td>\n",
       "      <td>1.0</td>\n",
       "      <td>0</td>\n",
       "      <td>0</td>\n",
       "      <td>...</td>\n",
       "      <td>6</td>\n",
       "      <td>770</td>\n",
       "      <td>0</td>\n",
       "      <td>1933</td>\n",
       "      <td>0</td>\n",
       "      <td>98028</td>\n",
       "      <td>47.7379</td>\n",
       "      <td>-122.233</td>\n",
       "      <td>2720</td>\n",
       "      <td>8062</td>\n",
       "    </tr>\n",
       "    <tr>\n",
       "      <th>3</th>\n",
       "      <td>2487200875</td>\n",
       "      <td>20141209T000000</td>\n",
       "      <td>604000.0</td>\n",
       "      <td>4</td>\n",
       "      <td>3.00</td>\n",
       "      <td>1960</td>\n",
       "      <td>5000</td>\n",
       "      <td>1.0</td>\n",
       "      <td>0</td>\n",
       "      <td>0</td>\n",
       "      <td>...</td>\n",
       "      <td>7</td>\n",
       "      <td>1050</td>\n",
       "      <td>910</td>\n",
       "      <td>1965</td>\n",
       "      <td>0</td>\n",
       "      <td>98136</td>\n",
       "      <td>47.5208</td>\n",
       "      <td>-122.393</td>\n",
       "      <td>1360</td>\n",
       "      <td>5000</td>\n",
       "    </tr>\n",
       "    <tr>\n",
       "      <th>4</th>\n",
       "      <td>1954400510</td>\n",
       "      <td>20150218T000000</td>\n",
       "      <td>510000.0</td>\n",
       "      <td>3</td>\n",
       "      <td>2.00</td>\n",
       "      <td>1680</td>\n",
       "      <td>8080</td>\n",
       "      <td>1.0</td>\n",
       "      <td>0</td>\n",
       "      <td>0</td>\n",
       "      <td>...</td>\n",
       "      <td>8</td>\n",
       "      <td>1680</td>\n",
       "      <td>0</td>\n",
       "      <td>1987</td>\n",
       "      <td>0</td>\n",
       "      <td>98074</td>\n",
       "      <td>47.6168</td>\n",
       "      <td>-122.045</td>\n",
       "      <td>1800</td>\n",
       "      <td>7503</td>\n",
       "    </tr>\n",
       "  </tbody>\n",
       "</table>\n",
       "<p>5 rows × 21 columns</p>\n",
       "</div>"
      ],
      "text/plain": [
       "           id             date     price  bedrooms  bathrooms  sqft_living  \\\n",
       "0  7129300520  20141013T000000  221900.0         3       1.00         1180   \n",
       "1  6414100192  20141209T000000  538000.0         3       2.25         2570   \n",
       "2  5631500400  20150225T000000  180000.0         2       1.00          770   \n",
       "3  2487200875  20141209T000000  604000.0         4       3.00         1960   \n",
       "4  1954400510  20150218T000000  510000.0         3       2.00         1680   \n",
       "\n",
       "   sqft_lot  floors  waterfront  view  ...  grade  sqft_above  sqft_basement  \\\n",
       "0      5650     1.0           0     0  ...      7        1180              0   \n",
       "1      7242     2.0           0     0  ...      7        2170            400   \n",
       "2     10000     1.0           0     0  ...      6         770              0   \n",
       "3      5000     1.0           0     0  ...      7        1050            910   \n",
       "4      8080     1.0           0     0  ...      8        1680              0   \n",
       "\n",
       "   yr_built  yr_renovated  zipcode      lat     long  sqft_living15  \\\n",
       "0      1955             0    98178  47.5112 -122.257           1340   \n",
       "1      1951          1991    98125  47.7210 -122.319           1690   \n",
       "2      1933             0    98028  47.7379 -122.233           2720   \n",
       "3      1965             0    98136  47.5208 -122.393           1360   \n",
       "4      1987             0    98074  47.6168 -122.045           1800   \n",
       "\n",
       "   sqft_lot15  \n",
       "0        5650  \n",
       "1        7639  \n",
       "2        8062  \n",
       "3        5000  \n",
       "4        7503  \n",
       "\n",
       "[5 rows x 21 columns]"
      ]
     },
     "execution_count": 2,
     "metadata": {},
     "output_type": "execute_result"
    }
   ],
   "source": [
    "data = pd.read_csv('house_prices.csv')\n",
    "data.head()"
   ]
  },
  {
   "cell_type": "code",
   "execution_count": 3,
   "metadata": {},
   "outputs": [
    {
     "data": {
      "text/plain": [
       "(21613, 21)"
      ]
     },
     "execution_count": 3,
     "metadata": {},
     "output_type": "execute_result"
    }
   ],
   "source": [
    "data.shape"
   ]
  },
  {
   "cell_type": "code",
   "execution_count": 4,
   "metadata": {},
   "outputs": [],
   "source": [
    "X = data.iloc[:, 5:6].values\n",
    "y = data.iloc[:, 2:3].values"
   ]
  },
  {
   "cell_type": "code",
   "execution_count": 5,
   "metadata": {},
   "outputs": [
    {
     "data": {
      "text/plain": [
       "array([[1180],\n",
       "       [2570],\n",
       "       [ 770],\n",
       "       ...,\n",
       "       [1020],\n",
       "       [1600],\n",
       "       [1020]], dtype=int64)"
      ]
     },
     "execution_count": 5,
     "metadata": {},
     "output_type": "execute_result"
    }
   ],
   "source": [
    "X"
   ]
  },
  {
   "cell_type": "code",
   "execution_count": 6,
   "metadata": {},
   "outputs": [
    {
     "data": {
      "text/plain": [
       "array([[221900.],\n",
       "       [538000.],\n",
       "       [180000.],\n",
       "       ...,\n",
       "       [402101.],\n",
       "       [400000.],\n",
       "       [325000.]])"
      ]
     },
     "execution_count": 6,
     "metadata": {},
     "output_type": "execute_result"
    }
   ],
   "source": [
    "y"
   ]
  },
  {
   "cell_type": "code",
   "execution_count": 7,
   "metadata": {},
   "outputs": [],
   "source": [
    "scaler_x = StandardScaler()\n",
    "X = scaler_x.fit_transform(X)\n",
    "scaler_y = StandardScaler()\n",
    "y = scaler_y.fit_transform(y)"
   ]
  },
  {
   "cell_type": "code",
   "execution_count": 8,
   "metadata": {},
   "outputs": [
    {
     "data": {
      "text/plain": [
       "array([[-0.97983502],\n",
       "       [ 0.53363434],\n",
       "       [-1.42625404],\n",
       "       ...,\n",
       "       [-1.15404732],\n",
       "       [-0.52252773],\n",
       "       [-1.15404732]])"
      ]
     },
     "execution_count": 8,
     "metadata": {},
     "output_type": "execute_result"
    }
   ],
   "source": [
    "X"
   ]
  },
  {
   "cell_type": "code",
   "execution_count": 9,
   "metadata": {},
   "outputs": [
    {
     "data": {
      "text/plain": [
       "array([[-0.86671733],\n",
       "       [-0.00568792],\n",
       "       [-0.98084935],\n",
       "       ...,\n",
       "       [-0.37586519],\n",
       "       [-0.38158814],\n",
       "       [-0.58588173]])"
      ]
     },
     "execution_count": 9,
     "metadata": {},
     "output_type": "execute_result"
    }
   ],
   "source": [
    "y"
   ]
  },
  {
   "cell_type": "code",
   "execution_count": 10,
   "metadata": {},
   "outputs": [],
   "source": [
    "columns = [tf.feature_column.numeric_column('x', shape = [1])]"
   ]
  },
  {
   "cell_type": "code",
   "execution_count": 11,
   "metadata": {},
   "outputs": [
    {
     "data": {
      "text/plain": [
       "[_NumericColumn(key='x', shape=(1,), default_value=None, dtype=tf.float32, normalizer_fn=None)]"
      ]
     },
     "execution_count": 11,
     "metadata": {},
     "output_type": "execute_result"
    }
   ],
   "source": [
    "columns"
   ]
  },
  {
   "cell_type": "code",
   "execution_count": 12,
   "metadata": {},
   "outputs": [
    {
     "name": "stdout",
     "output_type": "stream",
     "text": [
      "INFO:tensorflow:Using default config.\n",
      "WARNING:tensorflow:Using temporary folder as model directory: C:\\Users\\JOELPI~1\\AppData\\Local\\Temp\\tmpaxpqdag0\n",
      "INFO:tensorflow:Using config: {'_model_dir': 'C:\\\\Users\\\\JOELPI~1\\\\AppData\\\\Local\\\\Temp\\\\tmpaxpqdag0', '_tf_random_seed': None, '_save_summary_steps': 100, '_save_checkpoints_steps': None, '_save_checkpoints_secs': 600, '_session_config': None, '_keep_checkpoint_max': 5, '_keep_checkpoint_every_n_hours': 10000, '_log_step_count_steps': 100, '_train_distribute': None, '_service': None, '_cluster_spec': <tensorflow.python.training.server_lib.ClusterSpec object at 0x000001B914AEE828>, '_task_type': 'worker', '_task_id': 0, '_global_id_in_cluster': 0, '_master': '', '_evaluation_master': '', '_is_chief': True, '_num_ps_replicas': 0, '_num_worker_replicas': 1}\n"
     ]
    }
   ],
   "source": [
    "regressor = tf.estimator.LinearRegressor(feature_columns=columns)"
   ]
  },
  {
   "cell_type": "code",
   "execution_count": 13,
   "metadata": {},
   "outputs": [],
   "source": [
    "X_train, X_test, y_train, y_test = train_test_split(X, y, test_size = 0.3)"
   ]
  },
  {
   "cell_type": "code",
   "execution_count": 14,
   "metadata": {},
   "outputs": [
    {
     "data": {
      "text/plain": [
       "(15129, 1)"
      ]
     },
     "execution_count": 14,
     "metadata": {},
     "output_type": "execute_result"
    }
   ],
   "source": [
    "X_train.shape"
   ]
  },
  {
   "cell_type": "code",
   "execution_count": 15,
   "metadata": {},
   "outputs": [
    {
     "data": {
      "text/plain": [
       "(15129, 1)"
      ]
     },
     "execution_count": 15,
     "metadata": {},
     "output_type": "execute_result"
    }
   ],
   "source": [
    "y_train.shape"
   ]
  },
  {
   "cell_type": "code",
   "execution_count": 16,
   "metadata": {},
   "outputs": [
    {
     "data": {
      "text/plain": [
       "(6484, 1)"
      ]
     },
     "execution_count": 16,
     "metadata": {},
     "output_type": "execute_result"
    }
   ],
   "source": [
    "X_test.shape"
   ]
  },
  {
   "cell_type": "code",
   "execution_count": 17,
   "metadata": {},
   "outputs": [
    {
     "data": {
      "text/plain": [
       "(6484, 1)"
      ]
     },
     "execution_count": 17,
     "metadata": {},
     "output_type": "execute_result"
    }
   ],
   "source": [
    "y_test.shape"
   ]
  },
  {
   "cell_type": "code",
   "execution_count": 18,
   "metadata": {},
   "outputs": [],
   "source": [
    "train_function = tf.estimator.inputs.numpy_input_fn({'x': X_train}, y_train,\n",
    "                                                        batch_size = 32, num_epochs = None, \n",
    "                                                        shuffle = True)"
   ]
  },
  {
   "cell_type": "code",
   "execution_count": 19,
   "metadata": {},
   "outputs": [],
   "source": [
    "test_function = tf.estimator.inputs.numpy_input_fn({'x': X_test}, y_test, batch_size = 32, \n",
    "                                                  num_epochs = 1000, shuffle = False)"
   ]
  },
  {
   "cell_type": "code",
   "execution_count": 20,
   "metadata": {},
   "outputs": [
    {
     "name": "stdout",
     "output_type": "stream",
     "text": [
      "INFO:tensorflow:Calling model_fn.\n",
      "INFO:tensorflow:Done calling model_fn.\n",
      "INFO:tensorflow:Create CheckpointSaverHook.\n",
      "INFO:tensorflow:Graph was finalized.\n",
      "INFO:tensorflow:Running local_init_op.\n",
      "INFO:tensorflow:Done running local_init_op.\n",
      "INFO:tensorflow:Saving checkpoints for 1 into C:\\Users\\JOELPI~1\\AppData\\Local\\Temp\\tmpaxpqdag0\\model.ckpt.\n",
      "INFO:tensorflow:loss = 16.11892, step = 0\n",
      "INFO:tensorflow:global_step/sec: 196.443\n",
      "INFO:tensorflow:loss = 9.274247, step = 100 (0.515 sec)\n",
      "INFO:tensorflow:global_step/sec: 151.11\n",
      "INFO:tensorflow:loss = 14.227766, step = 200 (0.663 sec)\n",
      "INFO:tensorflow:global_step/sec: 80.0845\n",
      "INFO:tensorflow:loss = 12.389596, step = 300 (1.248 sec)\n",
      "INFO:tensorflow:global_step/sec: 198.979\n",
      "INFO:tensorflow:loss = 12.653597, step = 400 (0.501 sec)\n",
      "INFO:tensorflow:global_step/sec: 210.033\n",
      "INFO:tensorflow:loss = 32.617188, step = 500 (0.516 sec)\n",
      "INFO:tensorflow:global_step/sec: 193.409\n",
      "INFO:tensorflow:loss = 24.431967, step = 600 (0.476 sec)\n",
      "INFO:tensorflow:global_step/sec: 263.994\n",
      "INFO:tensorflow:loss = 7.1645184, step = 700 (0.380 sec)\n",
      "INFO:tensorflow:global_step/sec: 231.643\n",
      "INFO:tensorflow:loss = 6.2198944, step = 800 (0.431 sec)\n",
      "INFO:tensorflow:global_step/sec: 205.721\n",
      "INFO:tensorflow:loss = 9.8821125, step = 900 (0.489 sec)\n",
      "INFO:tensorflow:global_step/sec: 206.995\n",
      "INFO:tensorflow:loss = 10.9438095, step = 1000 (0.485 sec)\n",
      "INFO:tensorflow:global_step/sec: 210.918\n",
      "INFO:tensorflow:loss = 11.385361, step = 1100 (0.470 sec)\n",
      "INFO:tensorflow:global_step/sec: 213.842\n",
      "INFO:tensorflow:loss = 8.76924, step = 1200 (0.468 sec)\n",
      "INFO:tensorflow:global_step/sec: 278.297\n",
      "INFO:tensorflow:loss = 7.3071733, step = 1300 (0.360 sec)\n",
      "INFO:tensorflow:global_step/sec: 235.177\n",
      "INFO:tensorflow:loss = 9.019597, step = 1400 (0.423 sec)\n",
      "INFO:tensorflow:global_step/sec: 208.071\n",
      "INFO:tensorflow:loss = 14.437563, step = 1500 (0.481 sec)\n",
      "INFO:tensorflow:global_step/sec: 266.807\n",
      "INFO:tensorflow:loss = 9.535947, step = 1600 (0.376 sec)\n",
      "INFO:tensorflow:global_step/sec: 229.52\n",
      "INFO:tensorflow:loss = 7.7404494, step = 1700 (0.436 sec)\n",
      "INFO:tensorflow:global_step/sec: 216.384\n",
      "INFO:tensorflow:loss = 8.649492, step = 1800 (0.464 sec)\n",
      "INFO:tensorflow:global_step/sec: 230.843\n",
      "INFO:tensorflow:loss = 8.590506, step = 1900 (0.429 sec)\n",
      "INFO:tensorflow:global_step/sec: 268.235\n",
      "INFO:tensorflow:loss = 17.223347, step = 2000 (0.375 sec)\n",
      "INFO:tensorflow:global_step/sec: 257.217\n",
      "INFO:tensorflow:loss = 17.583416, step = 2100 (0.389 sec)\n",
      "INFO:tensorflow:global_step/sec: 127.139\n",
      "INFO:tensorflow:loss = 23.831707, step = 2200 (0.787 sec)\n",
      "INFO:tensorflow:global_step/sec: 297.732\n",
      "INFO:tensorflow:loss = 27.380596, step = 2300 (0.336 sec)\n",
      "INFO:tensorflow:global_step/sec: 279.07\n",
      "INFO:tensorflow:loss = 21.046701, step = 2400 (0.355 sec)\n",
      "INFO:tensorflow:global_step/sec: 257.877\n",
      "INFO:tensorflow:loss = 9.697109, step = 2500 (0.389 sec)\n",
      "INFO:tensorflow:global_step/sec: 260.902\n",
      "INFO:tensorflow:loss = 6.3576145, step = 2600 (0.383 sec)\n",
      "INFO:tensorflow:global_step/sec: 263.994\n",
      "INFO:tensorflow:loss = 6.3409433, step = 2700 (0.380 sec)\n",
      "INFO:tensorflow:global_step/sec: 282.612\n",
      "INFO:tensorflow:loss = 6.529318, step = 2800 (0.352 sec)\n",
      "INFO:tensorflow:global_step/sec: 290.393\n",
      "INFO:tensorflow:loss = 15.022074, step = 2900 (0.344 sec)\n",
      "INFO:tensorflow:global_step/sec: 268.955\n",
      "INFO:tensorflow:loss = 6.019921, step = 3000 (0.371 sec)\n",
      "INFO:tensorflow:global_step/sec: 283.011\n",
      "INFO:tensorflow:loss = 46.167244, step = 3100 (0.355 sec)\n",
      "INFO:tensorflow:global_step/sec: 294.664\n",
      "INFO:tensorflow:loss = 11.177912, step = 3200 (0.339 sec)\n",
      "INFO:tensorflow:global_step/sec: 259.213\n",
      "INFO:tensorflow:loss = 15.277842, step = 3300 (0.386 sec)\n",
      "INFO:tensorflow:global_step/sec: 258.878\n",
      "INFO:tensorflow:loss = 16.602234, step = 3400 (0.389 sec)\n",
      "INFO:tensorflow:global_step/sec: 250.152\n",
      "INFO:tensorflow:loss = 5.4673214, step = 3500 (0.398 sec)\n",
      "INFO:tensorflow:global_step/sec: 283.811\n",
      "INFO:tensorflow:loss = 48.298416, step = 3600 (0.353 sec)\n",
      "INFO:tensorflow:global_step/sec: 289.556\n",
      "INFO:tensorflow:loss = 8.44087, step = 3700 (0.346 sec)\n",
      "INFO:tensorflow:global_step/sec: 278.293\n",
      "INFO:tensorflow:loss = 11.640035, step = 3800 (0.360 sec)\n",
      "INFO:tensorflow:global_step/sec: 161.33\n",
      "INFO:tensorflow:loss = 8.255636, step = 3900 (0.617 sec)\n",
      "INFO:tensorflow:global_step/sec: 144.673\n",
      "INFO:tensorflow:loss = 14.169104, step = 4000 (0.692 sec)\n",
      "INFO:tensorflow:global_step/sec: 200.773\n",
      "INFO:tensorflow:loss = 35.235096, step = 4100 (0.502 sec)\n",
      "INFO:tensorflow:global_step/sec: 176.228\n",
      "INFO:tensorflow:loss = 31.248867, step = 4200 (0.563 sec)\n",
      "INFO:tensorflow:global_step/sec: 180.353\n",
      "INFO:tensorflow:loss = 9.393742, step = 4300 (0.556 sec)\n",
      "INFO:tensorflow:global_step/sec: 216.852\n",
      "INFO:tensorflow:loss = 11.57983, step = 4400 (0.461 sec)\n",
      "INFO:tensorflow:global_step/sec: 230.047\n",
      "INFO:tensorflow:loss = 12.468642, step = 4500 (0.433 sec)\n",
      "INFO:tensorflow:global_step/sec: 231.912\n",
      "INFO:tensorflow:loss = 9.707197, step = 4600 (0.433 sec)\n",
      "INFO:tensorflow:global_step/sec: 253.635\n",
      "INFO:tensorflow:loss = 30.965202, step = 4700 (0.394 sec)\n",
      "INFO:tensorflow:global_step/sec: 244.356\n",
      "INFO:tensorflow:loss = 5.939328, step = 4800 (0.412 sec)\n",
      "INFO:tensorflow:global_step/sec: 243.465\n",
      "INFO:tensorflow:loss = 8.126324, step = 4900 (0.408 sec)\n",
      "INFO:tensorflow:global_step/sec: 244.953\n",
      "INFO:tensorflow:loss = 6.615861, step = 5000 (0.413 sec)\n",
      "INFO:tensorflow:global_step/sec: 225.644\n",
      "INFO:tensorflow:loss = 31.63846, step = 5100 (0.438 sec)\n",
      "INFO:tensorflow:global_step/sec: 252.04\n",
      "INFO:tensorflow:loss = 15.497031, step = 5200 (0.395 sec)\n",
      "INFO:tensorflow:global_step/sec: 284.216\n",
      "INFO:tensorflow:loss = 25.42197, step = 5300 (0.351 sec)\n",
      "INFO:tensorflow:global_step/sec: 295.97\n",
      "INFO:tensorflow:loss = 9.467441, step = 5400 (0.339 sec)\n",
      "INFO:tensorflow:global_step/sec: 294.662\n",
      "INFO:tensorflow:loss = 6.7674932, step = 5500 (0.340 sec)\n",
      "INFO:tensorflow:global_step/sec: 268.957\n",
      "INFO:tensorflow:loss = 14.07247, step = 5600 (0.373 sec)\n",
      "INFO:tensorflow:global_step/sec: 262.267\n",
      "INFO:tensorflow:loss = 7.2443624, step = 5700 (0.381 sec)\n",
      "INFO:tensorflow:global_step/sec: 210.918\n",
      "INFO:tensorflow:loss = 9.924883, step = 5800 (0.474 sec)\n",
      "INFO:tensorflow:global_step/sec: 285.836\n",
      "INFO:tensorflow:loss = 12.673036, step = 5900 (0.348 sec)\n",
      "INFO:tensorflow:global_step/sec: 298.616\n",
      "INFO:tensorflow:loss = 8.900629, step = 6000 (0.335 sec)\n",
      "INFO:tensorflow:global_step/sec: 289.555\n",
      "INFO:tensorflow:loss = 10.925755, step = 6100 (0.346 sec)\n",
      "INFO:tensorflow:global_step/sec: 282.612\n",
      "INFO:tensorflow:loss = 21.545872, step = 6200 (0.352 sec)\n",
      "INFO:tensorflow:global_step/sec: 270.043\n",
      "INFO:tensorflow:loss = 64.97696, step = 6300 (0.371 sec)\n",
      "INFO:tensorflow:global_step/sec: 262.266\n",
      "INFO:tensorflow:loss = 5.799311, step = 6400 (0.382 sec)\n",
      "INFO:tensorflow:global_step/sec: 253.635\n",
      "INFO:tensorflow:loss = 21.571869, step = 6500 (0.394 sec)\n",
      "INFO:tensorflow:global_step/sec: 244.654\n",
      "INFO:tensorflow:loss = 13.341885, step = 6600 (0.407 sec)\n",
      "INFO:tensorflow:global_step/sec: 236.846\n",
      "INFO:tensorflow:loss = 18.38864, step = 6700 (0.425 sec)\n",
      "INFO:tensorflow:global_step/sec: 244.058\n",
      "INFO:tensorflow:loss = 14.893133, step = 6800 (0.408 sec)\n",
      "INFO:tensorflow:global_step/sec: 254.602\n",
      "INFO:tensorflow:loss = 16.679417, step = 6900 (0.394 sec)\n",
      "INFO:tensorflow:global_step/sec: 266.807\n",
      "INFO:tensorflow:loss = 12.773363, step = 7000 (0.373 sec)\n",
      "INFO:tensorflow:global_step/sec: 265.393\n",
      "INFO:tensorflow:loss = 13.2936945, step = 7100 (0.377 sec)\n",
      "INFO:tensorflow:global_step/sec: 257.217\n",
      "INFO:tensorflow:loss = 29.710447, step = 7200 (0.388 sec)\n",
      "INFO:tensorflow:global_step/sec: 261.923\n",
      "INFO:tensorflow:loss = 11.4173355, step = 7300 (0.384 sec)\n",
      "INFO:tensorflow:global_step/sec: 254.925\n",
      "INFO:tensorflow:loss = 16.546381, step = 7400 (0.392 sec)\n",
      "INFO:tensorflow:global_step/sec: 280.24\n",
      "INFO:tensorflow:loss = 24.924425, step = 7500 (0.354 sec)\n",
      "INFO:tensorflow:global_step/sec: 294.665\n",
      "INFO:tensorflow:loss = 11.910261, step = 7600 (0.338 sec)\n",
      "INFO:tensorflow:global_step/sec: 279.847\n",
      "INFO:tensorflow:loss = 29.210451, step = 7700 (0.357 sec)\n",
      "INFO:tensorflow:global_step/sec: 289.555\n",
      "INFO:tensorflow:loss = 21.318676, step = 7800 (0.348 sec)\n",
      "INFO:tensorflow:global_step/sec: 282.613\n",
      "INFO:tensorflow:loss = 15.831581, step = 7900 (0.352 sec)\n",
      "INFO:tensorflow:global_step/sec: 277.136\n"
     ]
    },
    {
     "name": "stdout",
     "output_type": "stream",
     "text": [
      "INFO:tensorflow:loss = 10.88394, step = 8000 (0.362 sec)\n",
      "INFO:tensorflow:global_step/sec: 255.904\n",
      "INFO:tensorflow:loss = 12.073667, step = 8100 (0.389 sec)\n",
      "INFO:tensorflow:global_step/sec: 264.344\n",
      "INFO:tensorflow:loss = 5.7069674, step = 8200 (0.378 sec)\n",
      "INFO:tensorflow:global_step/sec: 262.61\n",
      "INFO:tensorflow:loss = 9.8531275, step = 8300 (0.382 sec)\n",
      "INFO:tensorflow:global_step/sec: 301.765\n",
      "INFO:tensorflow:loss = 12.345152, step = 8400 (0.329 sec)\n",
      "INFO:tensorflow:global_step/sec: 292.94\n",
      "INFO:tensorflow:loss = 14.69666, step = 8500 (0.342 sec)\n",
      "INFO:tensorflow:global_step/sec: 298.616\n",
      "INFO:tensorflow:loss = 15.70563, step = 8600 (0.337 sec)\n",
      "INFO:tensorflow:global_step/sec: 302.677\n",
      "INFO:tensorflow:loss = 11.762901, step = 8700 (0.329 sec)\n",
      "INFO:tensorflow:global_step/sec: 295.533\n",
      "INFO:tensorflow:loss = 12.35478, step = 8800 (0.337 sec)\n",
      "INFO:tensorflow:global_step/sec: 279.458\n",
      "INFO:tensorflow:loss = 8.288596, step = 8900 (0.362 sec)\n",
      "INFO:tensorflow:global_step/sec: 237.972\n",
      "INFO:tensorflow:loss = 10.535085, step = 9000 (0.417 sec)\n",
      "INFO:tensorflow:global_step/sec: 263.645\n",
      "INFO:tensorflow:loss = 12.363316, step = 9100 (0.379 sec)\n",
      "INFO:tensorflow:global_step/sec: 291.663\n",
      "INFO:tensorflow:loss = 14.462593, step = 9200 (0.342 sec)\n",
      "INFO:tensorflow:global_step/sec: 293.37\n",
      "INFO:tensorflow:loss = 12.568903, step = 9300 (0.341 sec)\n",
      "INFO:tensorflow:global_step/sec: 283.411\n",
      "INFO:tensorflow:loss = 19.234005, step = 9400 (0.352 sec)\n",
      "INFO:tensorflow:global_step/sec: 242.287\n",
      "INFO:tensorflow:loss = 46.348442, step = 9500 (0.414 sec)\n",
      "INFO:tensorflow:global_step/sec: 295.099\n",
      "INFO:tensorflow:loss = 7.6659307, step = 9600 (0.338 sec)\n",
      "INFO:tensorflow:global_step/sec: 289.136\n",
      "INFO:tensorflow:loss = 9.726885, step = 9700 (0.347 sec)\n",
      "INFO:tensorflow:global_step/sec: 257.216\n",
      "INFO:tensorflow:loss = 10.352304, step = 9800 (0.391 sec)\n",
      "INFO:tensorflow:global_step/sec: 265.745\n",
      "INFO:tensorflow:loss = 7.136928, step = 9900 (0.374 sec)\n",
      "INFO:tensorflow:Saving checkpoints for 10000 into C:\\Users\\JOELPI~1\\AppData\\Local\\Temp\\tmpaxpqdag0\\model.ckpt.\n",
      "INFO:tensorflow:Loss for final step: 17.781246.\n"
     ]
    },
    {
     "data": {
      "text/plain": [
       "<tensorflow.python.estimator.canned.linear.LinearRegressor at 0x1b914aee470>"
      ]
     },
     "execution_count": 20,
     "metadata": {},
     "output_type": "execute_result"
    }
   ],
   "source": [
    "regressor.train(input_fn = train_function, steps = 10000)"
   ]
  },
  {
   "cell_type": "code",
   "execution_count": 21,
   "metadata": {},
   "outputs": [
    {
     "name": "stdout",
     "output_type": "stream",
     "text": [
      "INFO:tensorflow:Calling model_fn.\n",
      "INFO:tensorflow:Done calling model_fn.\n",
      "INFO:tensorflow:Starting evaluation at 2020-01-17-21:28:59\n",
      "INFO:tensorflow:Graph was finalized.\n",
      "INFO:tensorflow:Restoring parameters from C:\\Users\\JOELPI~1\\AppData\\Local\\Temp\\tmpaxpqdag0\\model.ckpt-10000\n",
      "INFO:tensorflow:Running local_init_op.\n",
      "INFO:tensorflow:Done running local_init_op.\n",
      "INFO:tensorflow:Evaluation [1000/10000]\n",
      "INFO:tensorflow:Evaluation [2000/10000]\n",
      "INFO:tensorflow:Evaluation [3000/10000]\n",
      "INFO:tensorflow:Evaluation [4000/10000]\n",
      "INFO:tensorflow:Evaluation [5000/10000]\n",
      "INFO:tensorflow:Evaluation [6000/10000]\n",
      "INFO:tensorflow:Evaluation [7000/10000]\n",
      "INFO:tensorflow:Evaluation [8000/10000]\n",
      "INFO:tensorflow:Evaluation [9000/10000]\n",
      "INFO:tensorflow:Evaluation [10000/10000]\n",
      "INFO:tensorflow:Finished evaluation at 2020-01-17-21:29:23\n",
      "INFO:tensorflow:Saving dict for global step 10000: average_loss = 0.4991989, global_step = 10000, loss = 15.974365\n"
     ]
    }
   ],
   "source": [
    "train_metrics = regressor.evaluate(input_fn = train_function, steps = 10000)"
   ]
  },
  {
   "cell_type": "code",
   "execution_count": 22,
   "metadata": {},
   "outputs": [
    {
     "name": "stdout",
     "output_type": "stream",
     "text": [
      "INFO:tensorflow:Calling model_fn.\n",
      "INFO:tensorflow:Done calling model_fn.\n",
      "INFO:tensorflow:Starting evaluation at 2020-01-17-21:29:24\n",
      "INFO:tensorflow:Graph was finalized.\n",
      "INFO:tensorflow:Restoring parameters from C:\\Users\\JOELPI~1\\AppData\\Local\\Temp\\tmpaxpqdag0\\model.ckpt-10000\n",
      "INFO:tensorflow:Running local_init_op.\n",
      "INFO:tensorflow:Done running local_init_op.\n",
      "INFO:tensorflow:Evaluation [1000/10000]\n",
      "INFO:tensorflow:Evaluation [2000/10000]\n",
      "INFO:tensorflow:Evaluation [3000/10000]\n",
      "INFO:tensorflow:Evaluation [4000/10000]\n",
      "INFO:tensorflow:Evaluation [5000/10000]\n",
      "INFO:tensorflow:Evaluation [6000/10000]\n",
      "INFO:tensorflow:Evaluation [7000/10000]\n",
      "INFO:tensorflow:Evaluation [8000/10000]\n",
      "INFO:tensorflow:Evaluation [9000/10000]\n",
      "INFO:tensorflow:Evaluation [10000/10000]\n",
      "INFO:tensorflow:Finished evaluation at 2020-01-17-21:29:54\n",
      "INFO:tensorflow:Saving dict for global step 10000: average_loss = 0.5257142, global_step = 10000, loss = 16.822855\n"
     ]
    }
   ],
   "source": [
    "test_metrics = regressor.evaluate(input_fn = test_function, steps = 10000)"
   ]
  },
  {
   "cell_type": "code",
   "execution_count": 23,
   "metadata": {},
   "outputs": [
    {
     "data": {
      "text/plain": [
       "{'average_loss': 0.4991989, 'loss': 15.974365, 'global_step': 10000}"
      ]
     },
     "execution_count": 23,
     "metadata": {},
     "output_type": "execute_result"
    }
   ],
   "source": [
    "train_metrics"
   ]
  },
  {
   "cell_type": "code",
   "execution_count": 24,
   "metadata": {},
   "outputs": [
    {
     "data": {
      "text/plain": [
       "{'average_loss': 0.5257142, 'loss': 16.822855, 'global_step': 10000}"
      ]
     },
     "execution_count": 24,
     "metadata": {},
     "output_type": "execute_result"
    }
   ],
   "source": [
    "test_metrics"
   ]
  },
  {
   "cell_type": "code",
   "execution_count": 25,
   "metadata": {},
   "outputs": [
    {
     "data": {
      "text/plain": [
       "array([[ 800],\n",
       "       [ 900],\n",
       "       [1000]])"
      ]
     },
     "execution_count": 25,
     "metadata": {},
     "output_type": "execute_result"
    }
   ],
   "source": [
    "new_houses = np.array([[800], [900], [1000]])\n",
    "new_houses"
   ]
  },
  {
   "cell_type": "code",
   "execution_count": 26,
   "metadata": {},
   "outputs": [
    {
     "data": {
      "text/plain": [
       "array([[-1.39358923],\n",
       "       [-1.28470655],\n",
       "       [-1.17582386]])"
      ]
     },
     "execution_count": 26,
     "metadata": {},
     "output_type": "execute_result"
    }
   ],
   "source": [
    "new_houses = scaler_x.transform(new_houses)\n",
    "new_houses"
   ]
  },
  {
   "cell_type": "code",
   "execution_count": 27,
   "metadata": {},
   "outputs": [],
   "source": [
    "predict_function = tf.estimator.inputs.numpy_input_fn({'x': new_houses}, shuffle = False)"
   ]
  },
  {
   "cell_type": "code",
   "execution_count": 28,
   "metadata": {},
   "outputs": [],
   "source": [
    "predictions = regressor.predict(input_fn = predict_function)"
   ]
  },
  {
   "cell_type": "code",
   "execution_count": 29,
   "metadata": {},
   "outputs": [
    {
     "data": {
      "text/plain": [
       "<generator object Estimator.predict at 0x000001B93A62FBF8>"
      ]
     },
     "execution_count": 29,
     "metadata": {},
     "output_type": "execute_result"
    }
   ],
   "source": [
    "predictions"
   ]
  },
  {
   "cell_type": "code",
   "execution_count": 30,
   "metadata": {},
   "outputs": [
    {
     "name": "stdout",
     "output_type": "stream",
     "text": [
      "INFO:tensorflow:Calling model_fn.\n",
      "INFO:tensorflow:Done calling model_fn.\n",
      "INFO:tensorflow:Graph was finalized.\n",
      "INFO:tensorflow:Restoring parameters from C:\\Users\\JOELPI~1\\AppData\\Local\\Temp\\tmpaxpqdag0\\model.ckpt-10000\n",
      "INFO:tensorflow:Running local_init_op.\n",
      "INFO:tensorflow:Done running local_init_op.\n"
     ]
    },
    {
     "data": {
      "text/plain": [
       "[{'predictions': array([-0.9730472], dtype=float32)},\n",
       " {'predictions': array([-0.8965389], dtype=float32)},\n",
       " {'predictions': array([-0.82003057], dtype=float32)}]"
      ]
     },
     "execution_count": 30,
     "metadata": {},
     "output_type": "execute_result"
    }
   ],
   "source": [
    "list(predictions)"
   ]
  },
  {
   "cell_type": "code",
   "execution_count": 31,
   "metadata": {},
   "outputs": [
    {
     "name": "stdout",
     "output_type": "stream",
     "text": [
      "INFO:tensorflow:Calling model_fn.\n",
      "INFO:tensorflow:Done calling model_fn.\n",
      "INFO:tensorflow:Graph was finalized.\n",
      "INFO:tensorflow:Restoring parameters from C:\\Users\\JOELPI~1\\AppData\\Local\\Temp\\tmpaxpqdag0\\model.ckpt-10000\n",
      "INFO:tensorflow:Running local_init_op.\n",
      "INFO:tensorflow:Done running local_init_op.\n",
      "[-0.9730472]\n",
      "[182864.33]\n",
      "[-0.8965389]\n",
      "[210951.92]\n",
      "[-0.82003057]\n",
      "[239039.58]\n"
     ]
    }
   ],
   "source": [
    "for p in regressor.predict(input_fn = predict_function):\n",
    "    print(p['predictions'])\n",
    "    print(scaler_y.inverse_transform(p['predictions']))"
   ]
  }
 ],
 "metadata": {
  "kernelspec": {
   "display_name": "Python 3",
   "language": "python",
   "name": "python3"
  },
  "language_info": {
   "codemirror_mode": {
    "name": "ipython",
    "version": 3
   },
   "file_extension": ".py",
   "mimetype": "text/x-python",
   "name": "python",
   "nbconvert_exporter": "python",
   "pygments_lexer": "ipython3",
   "version": "3.6.7"
  }
 },
 "nbformat": 4,
 "nbformat_minor": 2
}
