{
 "cells": [
  {
   "cell_type": "code",
   "execution_count": 31,
   "metadata": {},
   "outputs": [],
   "source": [
    "import tensorflow as tf\n",
    "import numpy as np\n",
    "import seaborn as sns\n",
    "%matplotlib inline"
   ]
  },
  {
   "cell_type": "code",
   "execution_count": 32,
   "metadata": {},
   "outputs": [
    {
     "data": {
      "text/plain": [
       "array([[0, 0],\n",
       "       [0, 1],\n",
       "       [1, 0],\n",
       "       [1, 1]])"
      ]
     },
     "execution_count": 32,
     "metadata": {},
     "output_type": "execute_result"
    }
   ],
   "source": [
    "X = np.array([[0,0], [0,1], [1,0], [1,1]])\n",
    "X"
   ]
  },
  {
   "cell_type": "code",
   "execution_count": 33,
   "metadata": {},
   "outputs": [
    {
     "data": {
      "text/plain": [
       "array([[1],\n",
       "       [0],\n",
       "       [0],\n",
       "       [1]])"
      ]
     },
     "execution_count": 33,
     "metadata": {},
     "output_type": "execute_result"
    }
   ],
   "source": [
    "y = np.array([[1], [0], [0], [1]])\n",
    "y"
   ]
  },
  {
   "cell_type": "code",
   "execution_count": 34,
   "metadata": {},
   "outputs": [],
   "source": [
    "input_neurons = 2\n",
    "hidden_neurons = 3\n",
    "output_neurons = 1"
   ]
  },
  {
   "cell_type": "code",
   "execution_count": 35,
   "metadata": {},
   "outputs": [],
   "source": [
    "W = {'oculta': tf.Variable(tf.random_normal([input_neurons, hidden_neurons]), name = 'w_oculta'), \n",
    "     'saida': tf.Variable(tf.random_normal([hidden_neurons, output_neurons]), name = 'w_saida')}"
   ]
  },
  {
   "cell_type": "code",
   "execution_count": 36,
   "metadata": {},
   "outputs": [
    {
     "data": {
      "text/plain": [
       "dict"
      ]
     },
     "execution_count": 36,
     "metadata": {},
     "output_type": "execute_result"
    }
   ],
   "source": [
    "type(W)"
   ]
  },
  {
   "cell_type": "code",
   "execution_count": 37,
   "metadata": {},
   "outputs": [
    {
     "data": {
      "text/plain": [
       "tensorflow.python.ops.variables.Variable"
      ]
     },
     "execution_count": 37,
     "metadata": {},
     "output_type": "execute_result"
    }
   ],
   "source": [
    "type(W['oculta'])"
   ]
  },
  {
   "cell_type": "code",
   "execution_count": 38,
   "metadata": {},
   "outputs": [
    {
     "data": {
      "text/plain": [
       "<tf.Variable 'w_oculta_2:0' shape=(2, 3) dtype=float32_ref>"
      ]
     },
     "execution_count": 38,
     "metadata": {},
     "output_type": "execute_result"
    }
   ],
   "source": [
    "W['oculta']"
   ]
  },
  {
   "cell_type": "code",
   "execution_count": 39,
   "metadata": {},
   "outputs": [
    {
     "data": {
      "text/plain": [
       "<tf.Variable 'w_saida_2:0' shape=(3, 1) dtype=float32_ref>"
      ]
     },
     "execution_count": 39,
     "metadata": {},
     "output_type": "execute_result"
    }
   ],
   "source": [
    "W['saida']"
   ]
  },
  {
   "cell_type": "code",
   "execution_count": 40,
   "metadata": {},
   "outputs": [
    {
     "data": {
      "text/plain": [
       "<matplotlib.axes._subplots.AxesSubplot at 0x24cf1563b38>"
      ]
     },
     "execution_count": 40,
     "metadata": {},
     "output_type": "execute_result"
    },
    {
     "data": {
      "image/png": "[encoded data removed]",
      "text/plain": [
       "<Figure size 432x288 with 1 Axes>"
      ]
     },
     "metadata": {
      "needs_background": "light"
     },
     "output_type": "display_data"
    }
   ],
   "source": [
    "distribution = np.random.normal(size = 500)\n",
    "#distribution\n",
    "sns.distplot(distribution)"
   ]
  },
  {
   "cell_type": "code",
   "execution_count": 41,
   "metadata": {},
   "outputs": [],
   "source": [
    "b = {'oculta': tf.Variable(tf.random_normal([hidden_neurons]), name = 'b_oculta'),\n",
    "     'saida': tf.Variable(tf.random_normal([output_neurons]), name = 'b_saida')}"
   ]
  },
  {
   "cell_type": "code",
   "execution_count": 42,
   "metadata": {},
   "outputs": [],
   "source": [
    "xph = tf.placeholder(tf.float32, [4, input_neurons], name = 'xph')\n",
    "yph = tf.placeholder(tf.float32, [4, output_neurons], name = 'yph')"
   ]
  },
  {
   "cell_type": "code",
   "execution_count": 43,
   "metadata": {},
   "outputs": [],
   "source": [
    "hidden_layer = tf.add(tf.matmul(xph, W['oculta']), b['oculta'])\n",
    "hidden_layer_activation = tf.sigmoid(hidden_layer)\n",
    "output_layer = tf.add(tf.matmul(hidden_layer_activation, W['saida']), b['saida'])\n",
    "output_layer_activation = tf.sigmoid(output_layer)\n",
    "error = tf.losses.mean_squared_error(yph, output_layer_activation)\n",
    "optimizer = tf.train.GradientDescentOptimizer(learning_rate = 0.3).minimize(error)"
   ]
  },
  {
   "cell_type": "code",
   "execution_count": 44,
   "metadata": {},
   "outputs": [],
   "source": [
    "init = tf.global_variables_initializer()"
   ]
  },
  {
   "cell_type": "code",
   "execution_count": 45,
   "metadata": {},
   "outputs": [
    {
     "name": "stdout",
     "output_type": "stream",
     "text": [
      "[[ 0.1710678   1.2756851   0.8595448 ]\n",
      " [-0.16562012 -0.6879302   0.20409594]]\n",
      "[[ 0.25472093]\n",
      " [-0.26100034]\n",
      " [-1.1210116 ]]\n",
      "[-1.6619086 -0.3303222  0.732382 ]\n",
      "\n",
      "\n",
      "[0.7872738]\n",
      "[[-1.6619086  -0.3303222   0.732382  ]\n",
      " [-1.8275287  -1.0182524   0.93647796]\n",
      " [-1.4908408   0.94536287  1.5919268 ]\n",
      " [-1.656461    0.25743264  1.7960227 ]]\n",
      "[[0.15950596 0.41816223 0.6753278 ]\n",
      " [0.13853294 0.26536795 0.71838766]\n",
      " [0.18379556 0.72018164 0.830887  ]\n",
      " [0.16023764 0.5640051  0.85766405]]\n",
      "[[-0.0382874 ]\n",
      " [-0.05202097]\n",
      " [-0.28531128]\n",
      " [-0.28056723]]\n",
      "[[0.49042937]\n",
      " [0.48699766]\n",
      " [0.42915216]\n",
      " [0.4303147 ]]\n",
      "0.0628463625907898\n",
      "0.06188221648335457\n",
      "0.06119006127119064\n",
      "0.06011458486318588\n",
      "0.05837828665971756\n",
      "0.05576343834400177\n",
      "0.05251589044928551\n",
      "0.048856236040592194\n",
      "0.043222825974226\n",
      "0.03528008982539177\n",
      "0.025237111374735832\n",
      "0.016165129840373993\n",
      "0.01038532517850399\n",
      "0.007108612917363644\n",
      "0.0051981303840875626\n",
      "0.00400866474956274\n",
      "0.003219344187527895\n",
      "0.002666778862476349\n",
      "0.0022627958096563816\n",
      "0.0019568714778870344\n",
      "0.001718458952382207\n",
      "0.0015281904488801956\n",
      "0.001373295672237873\n",
      "0.0012450587237253785\n",
      "0.0011373492889106274\n",
      "0.0010457454482093453\n",
      "0.0009669894934631884\n",
      "0.000898628612048924\n",
      "0.0008387874695472419\n",
      "0.0007860073819756508\n",
      "0.0007391410763375461\n",
      "0.000697272305842489\n",
      "0.0006596593302674592\n",
      "0.0006257026689127088\n",
      "0.0005949060432612896\n",
      "0.0005668569356203079\n",
      "0.0005412134923972189\n",
      "0.0005176838603802025\n",
      "0.000496023683808744\n",
      "0.00047602172708138824\n",
      "0.000457503367215395\n",
      "0.00044030783465132117\n",
      "0.00042430320172570646\n",
      "0.0004093723837286234\n",
      "0.0003954134008381516\n",
      "0.0003823358565568924\n",
      "0.0003700605593621731\n",
      "0.0003585162339732051\n",
      "0.0003476432175375521\n",
      "0.0003373830986674875\n"
     ]
    }
   ],
   "source": [
    "with tf.Session() as sess:\n",
    "    sess.run(init)\n",
    "    print(sess.run(W['oculta']))\n",
    "    print(sess.run(W['saida']))\n",
    "    print(sess.run(b['oculta']))\n",
    "    print('\\n')\n",
    "    print(sess.run(b['saida']))\n",
    "    print(sess.run(hidden_layer, feed_dict = {xph: X}))\n",
    "    print(sess.run(hidden_layer_activation, feed_dict = {xph: X}))\n",
    "    print(sess.run(output_layer, feed_dict = {xph: X}))\n",
    "    print(sess.run(output_layer_activation, feed_dict = {xph: X}))\n",
    "    for epochs in range(10000):\n",
    "        average_error = 0\n",
    "        _, custo = sess.run([optimizer, error], feed_dict = {xph: X, yph: y})\n",
    "        if epochs % 200 == 0:\n",
    "            average_error += custo / 4\n",
    "            print(average_error)\n",
    "    W_final, b_final = sess.run([W, b])\n",
    "            "
   ]
  },
  {
   "cell_type": "code",
   "execution_count": 46,
   "metadata": {},
   "outputs": [
    {
     "data": {
      "text/plain": [
       "{'oculta': array([[ 4.002244  ,  1.563271  ,  5.982711  ],\n",
       "        [ 4.2809834 , -0.43311656,  5.822826  ]], dtype=float32),\n",
       " 'saida': array([[ 8.692863  ],\n",
       "        [ 0.92914075],\n",
       "        [-8.409236  ]], dtype=float32)}"
      ]
     },
     "execution_count": 46,
     "metadata": {},
     "output_type": "execute_result"
    }
   ],
   "source": [
    "W_final"
   ]
  },
  {
   "cell_type": "code",
   "execution_count": 47,
   "metadata": {},
   "outputs": [
    {
     "data": {
      "text/plain": [
       "{'oculta': array([-6.3573422 , -0.00953503, -2.501715  ], dtype=float32),\n",
       " 'saida': array([3.3898263], dtype=float32)}"
      ]
     },
     "execution_count": 47,
     "metadata": {},
     "output_type": "execute_result"
    }
   ],
   "source": [
    "b_final"
   ]
  },
  {
   "cell_type": "code",
   "execution_count": 48,
   "metadata": {},
   "outputs": [],
   "source": [
    "# test\n",
    "hidden_layer_test = tf.add(tf.matmul(xph, W_final['oculta']), b_final['oculta'])\n",
    "hidden_layer_activation_test = tf.sigmoid(hidden_layer_test)\n",
    "output_layer_test = tf.add(tf.matmul(hidden_layer_activation_test, W_final['saida']), b_final['saida'])\n",
    "output_layer_activation_test = tf.sigmoid(output_layer_test)"
   ]
  },
  {
   "cell_type": "code",
   "execution_count": 49,
   "metadata": {},
   "outputs": [
    {
     "name": "stdout",
     "output_type": "stream",
     "text": [
      "[[0.96195984]\n",
      " [0.0324711 ]\n",
      " [0.0373977 ]\n",
      " [0.9633534 ]]\n"
     ]
    }
   ],
   "source": [
    "with tf.Session() as sess:\n",
    "    sess.run(init)\n",
    "    print(sess.run(output_layer_activation_test, feed_dict = {xph: X}))"
   ]
  }
 ],
 "metadata": {
  "kernelspec": {
   "display_name": "Python 3",
   "language": "python",
   "name": "python3"
  },
  "language_info": {
   "codemirror_mode": {
    "name": "ipython",
    "version": 3
   },
   "file_extension": ".py",
   "mimetype": "text/x-python",
   "name": "python",
   "nbconvert_exporter": "python",
   "pygments_lexer": "ipython3",
   "version": "3.6.7"
  }
 },
 "nbformat": 4,
 "nbformat_minor": 2
}
